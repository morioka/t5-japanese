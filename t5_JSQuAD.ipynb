{
  "cells": [
    {
      "cell_type": "markdown",
      "metadata": {
        "id": "yVvMN6EZZgeZ"
      },
      "source": [
        "# JSQuAD\n",
        "\n",
        "事前学習済みT5モデルを、[JGLUE](https://github.com/yahoojapan/JGLUE)のJSQuADタスク用に転移学習（ファインチューニング）します。"
      ]
    },
    {
      "cell_type": "markdown",
      "metadata": {
        "id": "96yzpdcmZlPL"
      },
      "source": [
        "# ライブラリやデータの準備"
      ]
    },
    {
      "cell_type": "code",
      "execution_count": 1,
      "metadata": {
        "colab": {
          "base_uri": "https://localhost:8080/"
        },
        "id": "UgLJ6FjvkAfC",
        "outputId": "c70c5221-be27-4d1d-bf96-2a7eb8ee6c2f"
      },
      "outputs": [
        {
          "output_type": "stream",
          "name": "stdout",
          "text": [
            "Sat Dec 17 07:46:32 2022       \n",
            "+-----------------------------------------------------------------------------+\n",
            "| NVIDIA-SMI 460.32.03    Driver Version: 460.32.03    CUDA Version: 11.2     |\n",
            "|-------------------------------+----------------------+----------------------+\n",
            "| GPU  Name        Persistence-M| Bus-Id        Disp.A | Volatile Uncorr. ECC |\n",
            "| Fan  Temp  Perf  Pwr:Usage/Cap|         Memory-Usage | GPU-Util  Compute M. |\n",
            "|                               |                      |               MIG M. |\n",
            "|===============================+======================+======================|\n",
            "|   0  Tesla T4            Off  | 00000000:00:04.0 Off |                    0 |\n",
            "| N/A   72C    P0    30W /  70W |      0MiB / 15109MiB |      0%      Default |\n",
            "|                               |                      |                  N/A |\n",
            "+-------------------------------+----------------------+----------------------+\n",
            "                                                                               \n",
            "+-----------------------------------------------------------------------------+\n",
            "| Processes:                                                                  |\n",
            "|  GPU   GI   CI        PID   Type   Process name                  GPU Memory |\n",
            "|        ID   ID                                                   Usage      |\n",
            "|=============================================================================|\n",
            "|  No running processes found                                                 |\n",
            "+-----------------------------------------------------------------------------+\n"
          ]
        }
      ],
      "source": [
        "!nvidia-smi"
      ]
    },
    {
      "cell_type": "markdown",
      "metadata": {
        "id": "tCMX3LJUZohT"
      },
      "source": [
        "## 依存ライブラリのインストール"
      ]
    },
    {
      "cell_type": "code",
      "execution_count": 2,
      "metadata": {
        "colab": {
          "base_uri": "https://localhost:8080/"
        },
        "id": "5JQI6sIAAR2T",
        "outputId": "7d687a87-c95f-470d-84cb-7d909c203036"
      },
      "outputs": [
        {
          "output_type": "stream",
          "name": "stdout",
          "text": [
            "\u001b[K     |██████████████████████████████  | 834.1 MB 1.2 MB/s eta 0:00:45tcmalloc: large alloc 1147494400 bytes == 0x3a756000 @  0x7f8361e01615 0x5d6f4c 0x51edd1 0x51ef5b 0x4f750a 0x4997a2 0x4fd8b5 0x4997c7 0x4fd8b5 0x49abe4 0x4f5fe9 0x55e146 0x4f5fe9 0x55e146 0x4f5fe9 0x55e146 0x5d8868 0x5da092 0x587116 0x5d8d8c 0x55dc1e 0x55cd91 0x5d8941 0x49abe4 0x55cd91 0x5d8941 0x4990ca 0x5d8868 0x4997a2 0x4fd8b5 0x49abe4\n",
            "\u001b[K     |████████████████████████████████| 887.4 MB 1.7 kB/s \n",
            "\u001b[K     |████████████████████████████████| 2.0 MB 47.6 MB/s \n",
            "\u001b[K     |████████████████████████████████| 24.2 MB 1.3 MB/s \n",
            "\u001b[K     |████████████████████████████████| 4.2 MB 64.9 MB/s \n",
            "\u001b[K     |████████████████████████████████| 849 kB 57.6 MB/s \n",
            "\u001b[K     |████████████████████████████████| 317.1 MB 32 kB/s \n",
            "\u001b[K     |████████████████████████████████| 21.0 MB 1.2 MB/s \n",
            "\u001b[K     |████████████████████████████████| 557.1 MB 12 kB/s \n",
            "\u001b[K     |████████████████████████████████| 5.8 MB 21.6 MB/s \n",
            "\u001b[K     |████████████████████████████████| 800 kB 70.9 MB/s \n",
            "\u001b[K     |████████████████████████████████| 1.3 MB 64.6 MB/s \n",
            "\u001b[K     |████████████████████████████████| 7.6 MB 67.4 MB/s \n",
            "\u001b[K     |████████████████████████████████| 182 kB 78.4 MB/s \n",
            "\u001b[K     |████████████████████████████████| 125 kB 74.9 MB/s \n",
            "\u001b[K     |████████████████████████████████| 512 kB 67.5 MB/s \n",
            "\u001b[K     |████████████████████████████████| 9.7 MB 32.4 MB/s \n",
            "\u001b[?25h"
          ]
        }
      ],
      "source": [
        "# 2022-12-15 時点\n",
        "# python-3.8.16 (Google Colaboratory)\n",
        "!pip install -qU torch==1.13.1 torchtext==0.14.1 torchvision==0.14.1 torchaudio==0.13.1\n",
        "!pip install -qU transformers==4.25.1 pytorch-lightning==1.8.5 sentencepiece==0.1.97\n",
        "!pip install -qU scikit-learn==1.2.0"
      ]
    },
    {
      "cell_type": "markdown",
      "metadata": {
        "id": "gKPw3bnyJPkP"
      },
      "source": [
        "## 各種ディレクトリ作成\n",
        "\n",
        "* data: 学習用データセット格納用\n",
        "* model: 学習済みモデル格納用\n"
      ]
    },
    {
      "cell_type": "code",
      "execution_count": 3,
      "metadata": {
        "id": "y0e7X5jYZtKm"
      },
      "outputs": [],
      "source": [
        "!mkdir -p /content/data /content/model\n",
        "!rm -rf /content/model/*"
      ]
    },
    {
      "cell_type": "code",
      "execution_count": 4,
      "metadata": {
        "id": "f1Jwcu4Fcgy9"
      },
      "outputs": [],
      "source": [
        "# 事前学習済みモデル\n",
        "PRETRAINED_MODEL_NAME = \"sonoisa/t5-base-japanese\"\n",
        "\n",
        "# 転移学習済みモデルを保存する場所\n",
        "MODEL_DIR = \"/content/model\""
      ]
    },
    {
      "cell_type": "markdown",
      "metadata": {
        "id": "MYnEg051Fl1v"
      },
      "source": [
        "## JGLUEコーパスのダウンロード"
      ]
    },
    {
      "cell_type": "code",
      "source": [
        "!git clone https://github.com/yahoojapan/JGLUE"
      ],
      "metadata": {
        "colab": {
          "base_uri": "https://localhost:8080/"
        },
        "id": "7xB-M0GRNuY2",
        "outputId": "cf198619-8c2b-465a-cc40-bfdb143d0248"
      },
      "execution_count": 5,
      "outputs": [
        {
          "output_type": "stream",
          "name": "stdout",
          "text": [
            "Cloning into 'JGLUE'...\n",
            "remote: Enumerating objects: 101, done.\u001b[K\n",
            "remote: Counting objects: 100% (101/101), done.\u001b[K\n",
            "remote: Compressing objects: 100% (72/72), done.\u001b[K\n",
            "remote: Total 101 (delta 28), reused 87 (delta 19), pack-reused 0\u001b[K\n",
            "Receiving objects: 100% (101/101), 6.54 MiB | 16.92 MiB/s, done.\n",
            "Resolving deltas: 100% (28/28), done.\n"
          ]
        }
      ]
    },
    {
      "cell_type": "code",
      "execution_count": 6,
      "metadata": {
        "id": "pga3WMu6FJYn"
      },
      "outputs": [],
      "source": [
        "# !wget -O amazon_reviews_multilingual_JP_v1_00.tsv.gz https://s3.amazonaws.com/amazon-reviews-pds/tsv/amazon_reviews_multilingual_JP_v1_00.tsv.gz"
      ]
    },
    {
      "cell_type": "code",
      "source": [
        "# !pip install -r /content/JGLUE/preprocess/requirements.txt"
      ],
      "metadata": {
        "id": "6idlgF23PGoP"
      },
      "execution_count": 7,
      "outputs": []
    },
    {
      "cell_type": "code",
      "source": [
        "# !cd /content/JGLUE/preprocess/marc-ja/scripts; \\\n",
        "#     gzip -dc /content/amazon_reviews_multilingual_JP_v1_00.tsv.gz | \\\n",
        "#     python marc-ja.py \\\n",
        "#          --positive-negative \\\n",
        "#          --output-dir ../../../datasets/marc_ja-v1.0 \\\n",
        "#          --max-char-length 500 \\\n",
        "#          --filter-review-id-list-valid ../data/filter_review_id_list/valid.txt \\\n",
        "#          --label-conv-review-id-list-valid ../data/label_conv_review_id_list/valid.txt"
      ],
      "metadata": {
        "id": "V79OsSAaOw-k"
      },
      "execution_count": 8,
      "outputs": []
    },
    {
      "cell_type": "markdown",
      "metadata": {
        "id": "8Sv7HD9AZ4h9"
      },
      "source": [
        "## 文字列の正規化の定義\n",
        "\n",
        "表記揺れを減らします。今回は[neologdの正規化処理](https://github.com/neologd/mecab-ipadic-neologd/wiki/Regexp.ja)を一部改変したものを利用します。\n",
        "処理の詳細はリンク先を参照してください。"
      ]
    },
    {
      "cell_type": "code",
      "execution_count": 27,
      "metadata": {
        "id": "Nf-0eoBYFNKH"
      },
      "outputs": [],
      "source": [
        "# https://github.com/neologd/mecab-ipadic-neologd/wiki/Regexp.ja から引用・一部改変\n",
        "from __future__ import unicode_literals\n",
        "import re\n",
        "import unicodedata\n",
        "\n",
        "def unicode_normalize(cls, s):\n",
        "    pt = re.compile('([{}]+)'.format(cls))\n",
        "\n",
        "    def norm(c):\n",
        "        return unicodedata.normalize('NFKC', c) if pt.match(c) else c\n",
        "\n",
        "    s = ''.join(norm(x) for x in re.split(pt, s))\n",
        "    s = re.sub('－', '-', s)\n",
        "    return s\n",
        "\n",
        "def remove_extra_spaces(s):\n",
        "    s = re.sub('[ 　]+', ' ', s)\n",
        "    blocks = ''.join(('\\u4E00-\\u9FFF',  # CJK UNIFIED IDEOGRAPHS\n",
        "                      '\\u3040-\\u309F',  # HIRAGANA\n",
        "                      '\\u30A0-\\u30FF',  # KATAKANA\n",
        "                      '\\u3000-\\u303F',  # CJK SYMBOLS AND PUNCTUATION\n",
        "                      '\\uFF00-\\uFFEF'   # HALFWIDTH AND FULLWIDTH FORMS\n",
        "                      ))\n",
        "    basic_latin = '\\u0000-\\u007F'\n",
        "\n",
        "    def remove_space_between(cls1, cls2, s):\n",
        "        p = re.compile('([{}]) ([{}])'.format(cls1, cls2))\n",
        "        while p.search(s):\n",
        "            s = p.sub(r'\\1\\2', s)\n",
        "        return s\n",
        "\n",
        "    s = remove_space_between(blocks, blocks, s)\n",
        "    s = remove_space_between(blocks, basic_latin, s)\n",
        "    s = remove_space_between(basic_latin, blocks, s)\n",
        "    return s\n",
        "\n",
        "def normalize_neologd(s):\n",
        "    s = s.strip()\n",
        "    s = unicode_normalize('０-９Ａ-Ｚａ-ｚ｡-ﾟ', s)\n",
        "\n",
        "    def maketrans(f, t):\n",
        "        return {ord(x): ord(y) for x, y in zip(f, t)}\n",
        "\n",
        "    s = re.sub('[˗֊‐‑‒–⁃⁻₋−]+', '-', s)  # normalize hyphens\n",
        "    s = re.sub('[﹣－ｰ—―─━ー]+', 'ー', s)  # normalize choonpus\n",
        "    s = re.sub('[~∼∾〜〰～]+', '〜', s)  # normalize tildes (modified by Isao Sonobe)\n",
        "    s = s.translate(\n",
        "        maketrans('!\"#$%&\\'()*+,-./:;<=>?@[¥]^_`{|}~｡､･｢｣',\n",
        "              '！”＃＄％＆’（）＊＋，－．／：；＜＝＞？＠［￥］＾＿｀｛｜｝〜。、・「」'))\n",
        "\n",
        "    s = remove_extra_spaces(s)\n",
        "    s = unicode_normalize('！”＃＄％＆’（）＊＋，－．／：；＜＞？＠［￥］＾＿｀｛｜｝〜', s)  # keep ＝,・,「,」\n",
        "    s = re.sub('[’]', '\\'', s)\n",
        "    s = re.sub('[”]', '\"', s)\n",
        "    return s"
      ]
    },
    {
      "cell_type": "markdown",
      "source": [
        "## データセットを正規化しT5用に形式を整える。"
      ],
      "metadata": {
        "id": "XAGz3C17XAfv"
      }
    },
    {
      "cell_type": "code",
      "source": [
        "import json\n",
        "\n",
        "\n",
        "def normalize_text(text):\n",
        "    text = text.strip()\n",
        "    assert \"\\t\" not in text\n",
        "    assert \"\\r\" not in text\n",
        "    assert \"\\n\" not in text\n",
        "    assert len(text) > 0\n",
        "\n",
        "    text = normalize_neologd(text)\n",
        "    text = text.lower()\n",
        "    return text\n",
        "\n",
        "\n",
        "def make_squad_data(json_data):\n",
        "    data = []\n",
        "    for datum in json_data[\"data\"]:\n",
        "        for paragraph in datum[\"paragraphs\"]:\n",
        "            context = paragraph[\"context\"]\n",
        "            context = normalize_text(context).replace(\"[sep]\", \"<|n|>\")\n",
        "            for qa in paragraph[\"qas\"]:\n",
        "                qa_id = qa[\"id\"]\n",
        "\n",
        "                question = qa[\"question\"]\n",
        "                question = normalize_text(question)\n",
        "\n",
        "                answer_text = qa[\"answers\"][0][\"text\"]\n",
        "                answer_text = normalize_text(answer_text)\n",
        "                \n",
        "                input = f\"question: {question} context: {context}\"\n",
        "                target = f\"{answer_text}\"\n",
        "\n",
        "                data.append((qa_id, input, target))\n",
        "    return data\n",
        "\n",
        "with open(\"/content/JGLUE/datasets/jsquad-v1.1/train-v1.1.json\", \"r\", encoding=\"utf-8\") as f_in:\n",
        "    json_data = json.load(f_in)\n",
        "    train_data = make_squad_data(json_data)\n",
        "\n",
        "with open(\"/content/JGLUE/datasets/jsquad-v1.1/valid-v1.1.json\", \"r\", encoding=\"utf-8\") as f_in:\n",
        "    json_data = json.load(f_in)\n",
        "    test_data = make_squad_data(json_data)"
      ],
      "metadata": {
        "id": "NL5btg2nXAH0"
      },
      "execution_count": 28,
      "outputs": []
    },
    {
      "cell_type": "code",
      "source": [
        "import json\n",
        "from tqdm import tqdm\n",
        "from transformers import T5Tokenizer\n",
        "\n",
        "\n",
        "# 注意: JSQuADのF1値計算の都合で、トークンの間に半角空白を入れた文字列に変換する。\n",
        "def decode_to_whitespace_delimited_tokens(tokenizer, ids):\n",
        "    tokens = [tokenizer.decode([id], skip_special_tokens=True).strip() for id in ids]\n",
        "    tokens = [token for token in tokens if token != \"\"]\n",
        "    return \" \".join(tokens).strip()\n",
        "\n",
        "\n",
        "def normalize_squad_test_data(json_data):\n",
        "    tokenizer = T5Tokenizer.from_pretrained(PRETRAINED_MODEL_NAME)\n",
        "\n",
        "    for datum in tqdm(json_data[\"data\"]):\n",
        "        for paragraph in datum[\"paragraphs\"]:\n",
        "            context = paragraph[\"context\"]\n",
        "            context = normalize_text(context).replace(\"[sep]\", \"<|n|>\")\n",
        "            paragraph[\"context\"] = context\n",
        "\n",
        "            for qa in paragraph[\"qas\"]:\n",
        "                question = qa[\"question\"]\n",
        "                question = normalize_text(question)\n",
        "                qa[\"question\"] = question\n",
        "\n",
        "                for answer in qa[\"answers\"]:\n",
        "                    answer_text = answer[\"text\"]\n",
        "                    answer_text = normalize_text(answer_text)\n",
        "\n",
        "                    answer_ids = tokenizer.encode(answer_text)\n",
        "                    answer_text = decode_to_whitespace_delimited_tokens(tokenizer, answer_ids)\n",
        "\n",
        "                    answer[\"text\"] = answer_text\n",
        "\n",
        "\n",
        "with open(\"/content/JGLUE/datasets/jsquad-v1.1/valid-v1.1.json\", \"r\", encoding=\"utf-8\") as f_in, \\\n",
        "    open(f\"/content/data/normalized-valid-v1.1.json\", \"w\", encoding=\"utf-8\") as f_test:\n",
        "\n",
        "    json_data = json.load(f_in)\n",
        "    normalize_squad_test_data(json_data)\n",
        "    json.dump(json_data, f_test, ensure_ascii=False)"
      ],
      "metadata": {
        "colab": {
          "base_uri": "https://localhost:8080/"
        },
        "id": "rI-0vWAPXUtf",
        "outputId": "b55f5a0a-5b04-4baa-da15-2268f28a9fc3"
      },
      "execution_count": 29,
      "outputs": [
        {
          "output_type": "stream",
          "name": "stderr",
          "text": [
            "\n",
            "  0%|          | 0/59 [00:00<?, ?it/s]\u001b[A\n",
            "  2%|▏         | 1/59 [00:01<01:34,  1.63s/it]\u001b[A\n",
            "  3%|▎         | 2/59 [00:02<01:07,  1.19s/it]\u001b[A\n",
            "  5%|▌         | 3/59 [00:03<01:10,  1.25s/it]\u001b[A\n",
            "  7%|▋         | 4/59 [00:04<00:49,  1.11it/s]\u001b[A\n",
            "  8%|▊         | 5/59 [00:05<00:51,  1.04it/s]\u001b[A\n",
            " 10%|█         | 6/59 [00:06<00:46,  1.13it/s]\u001b[A\n",
            " 12%|█▏        | 7/59 [00:07<00:56,  1.08s/it]\u001b[A\n",
            " 14%|█▎        | 8/59 [00:12<02:00,  2.36s/it]\u001b[A\n",
            " 17%|█▋        | 10/59 [00:13<01:15,  1.54s/it]\u001b[A\n",
            " 19%|█▊        | 11/59 [00:15<01:19,  1.65s/it]\u001b[A\n",
            " 22%|██▏       | 13/59 [00:16<00:45,  1.00it/s]\u001b[A\n",
            " 24%|██▎       | 14/59 [00:17<00:44,  1.00it/s]\u001b[A\n",
            " 25%|██▌       | 15/59 [00:17<00:35,  1.24it/s]\u001b[A\n",
            " 27%|██▋       | 16/59 [00:18<00:36,  1.16it/s]\u001b[A\n",
            " 29%|██▉       | 17/59 [00:18<00:27,  1.53it/s]\u001b[A\n",
            " 31%|███       | 18/59 [00:18<00:24,  1.68it/s]\u001b[A\n",
            " 32%|███▏      | 19/59 [00:19<00:21,  1.89it/s]\u001b[A\n",
            " 34%|███▍      | 20/59 [00:19<00:16,  2.42it/s]\u001b[A\n",
            " 36%|███▌      | 21/59 [00:19<00:13,  2.92it/s]\u001b[A\n",
            " 37%|███▋      | 22/59 [00:20<00:17,  2.17it/s]\u001b[A\n",
            " 39%|███▉      | 23/59 [00:21<00:20,  1.77it/s]\u001b[A\n",
            " 41%|████      | 24/59 [00:22<00:32,  1.09it/s]\u001b[A\n",
            " 44%|████▍     | 26/59 [00:23<00:18,  1.78it/s]\u001b[A\n",
            " 46%|████▌     | 27/59 [00:23<00:17,  1.82it/s]\u001b[A\n",
            " 47%|████▋     | 28/59 [00:23<00:14,  2.15it/s]\u001b[A\n",
            " 49%|████▉     | 29/59 [00:24<00:12,  2.36it/s]\u001b[A\n",
            " 51%|█████     | 30/59 [00:25<00:19,  1.51it/s]\u001b[A\n",
            " 54%|█████▍    | 32/59 [00:25<00:11,  2.34it/s]\u001b[A\n",
            " 56%|█████▌    | 33/59 [00:25<00:09,  2.83it/s]\u001b[A\n",
            " 58%|█████▊    | 34/59 [00:25<00:07,  3.36it/s]\u001b[A\n",
            " 59%|█████▉    | 35/59 [00:26<00:05,  4.01it/s]\u001b[A\n",
            " 63%|██████▎   | 37/59 [00:26<00:04,  4.98it/s]\u001b[A\n",
            " 64%|██████▍   | 38/59 [00:26<00:05,  3.79it/s]\u001b[A\n",
            " 66%|██████▌   | 39/59 [00:27<00:05,  3.40it/s]\u001b[A\n",
            " 68%|██████▊   | 40/59 [00:27<00:05,  3.18it/s]\u001b[A\n",
            " 71%|███████   | 42/59 [00:29<00:09,  1.72it/s]\u001b[A\n",
            " 73%|███████▎  | 43/59 [00:29<00:09,  1.70it/s]\u001b[A\n",
            " 76%|███████▋  | 45/59 [00:30<00:05,  2.69it/s]\u001b[A\n",
            " 78%|███████▊  | 46/59 [00:30<00:04,  2.97it/s]\u001b[A\n",
            " 80%|███████▉  | 47/59 [00:30<00:03,  3.05it/s]\u001b[A\n",
            " 83%|████████▎ | 49/59 [00:31<00:03,  3.10it/s]\u001b[A\n",
            " 85%|████████▍ | 50/59 [00:31<00:02,  3.36it/s]\u001b[A\n",
            " 88%|████████▊ | 52/59 [00:32<00:02,  3.22it/s]\u001b[A\n",
            " 90%|████████▉ | 53/59 [00:32<00:01,  3.76it/s]\u001b[A\n",
            " 93%|█████████▎| 55/59 [00:32<00:00,  5.40it/s]\u001b[A\n",
            " 95%|█████████▍| 56/59 [00:32<00:00,  5.21it/s]\u001b[A\n",
            " 97%|█████████▋| 57/59 [00:32<00:00,  5.35it/s]\u001b[A\n",
            " 98%|█████████▊| 58/59 [00:33<00:00,  2.92it/s]\u001b[A\n",
            "100%|██████████| 59/59 [00:33<00:00,  1.75it/s]\n"
          ]
        }
      ]
    },
    {
      "cell_type": "markdown",
      "metadata": {
        "id": "6jVIyipoG2Es"
      },
      "source": [
        "## データ分割\n",
        "\n",
        "データセットを95% : 5%の比率でtrain/devに分割します。\n",
        "\n",
        "* trainデータ: 学習に利用するデータ\n",
        "* devデータ: 学習中の精度評価等に利用するデータ\n",
        "* testデータ: 学習結果のモデルの精度評価に利用するデータ"
      ]
    },
    {
      "cell_type": "code",
      "execution_count": 30,
      "metadata": {
        "colab": {
          "base_uri": "https://localhost:8080/"
        },
        "id": "H_Fzhe5qFV3J",
        "outputId": "2087f8a5-f56e-4453-bb72-be023c6dad12"
      },
      "outputs": [
        {
          "output_type": "stream",
          "name": "stderr",
          "text": [
            "\n",
            "0it [00:00, ?it/s]\u001b[A\n",
            "23313it [00:00, 233109.10it/s]\u001b[A\n",
            "62859it [00:00, 215265.23it/s]\n",
            "\n",
            "4442it [00:00, 212642.51it/s]\n"
          ]
        }
      ],
      "source": [
        "import random\n",
        "from tqdm import tqdm\n",
        "\n",
        "random.seed(1234)\n",
        "random.shuffle(train_data)\n",
        "\n",
        "data_size = len(train_data)\n",
        "train_ratio = 0.95\n",
        "\n",
        "def assert_field(field):\n",
        "    assert len(field) > 0\n",
        "    assert \"\\t\" not in field\n",
        "    assert \"\\n\" not in field\n",
        "    assert \"\\r\" not in field\n",
        "\n",
        "def to_line(data):\n",
        "    qa_id, input, target = data\n",
        "    qa_id = qa_id.strip()\n",
        "    input = input.strip()\n",
        "    target = target.strip()\n",
        "\n",
        "    assert_field(qa_id)\n",
        "    assert_field(input)\n",
        "    assert_field(target)\n",
        "\n",
        "    return f\"{qa_id}\\t{input}\\t{target}\\n\"\n",
        "\n",
        "with open(f\"/content/data/train.tsv\", \"w\", encoding=\"utf-8\") as f_train, \\\n",
        "    open(f\"/content/data/dev.tsv\", \"w\", encoding=\"utf-8\") as f_dev, \\\n",
        "    open(f\"/content/data/test.tsv\", \"w\", encoding=\"utf-8\") as f_test:\n",
        "    \n",
        "    for i, data in tqdm(enumerate(train_data)):\n",
        "        line = to_line(data)\n",
        "        if i < train_ratio * data_size:\n",
        "            f_train.write(line)\n",
        "        else:\n",
        "            f_dev.write(line)\n",
        "    \n",
        "    for i, data in tqdm(enumerate(test_data)):\n",
        "        line = to_line(data)\n",
        "        f_test.write(line)\n"
      ]
    },
    {
      "cell_type": "markdown",
      "metadata": {
        "id": "rB79fsa9aCxs"
      },
      "source": [
        "作成されたデータを確認します。\n",
        "\n",
        "形式: {QA_ID}\\t{question: 質問文 context: コンテキスト}\\t{答え}"
      ]
    },
    {
      "cell_type": "code",
      "execution_count": 31,
      "metadata": {
        "colab": {
          "base_uri": "https://localhost:8080/"
        },
        "id": "GstRhKSyFaK7",
        "outputId": "6b88a484-a369-4c37-8d2f-7f0f0304bcd1"
      },
      "outputs": [
        {
          "output_type": "stream",
          "name": "stdout",
          "text": [
            "a10336p0q0\tquestion: 日本で梅雨がないのは北海道とどこか。 context: 梅雨<|n|>梅雨(つゆ、ばいう)は、北海道と小笠原諸島を除く日本、朝鮮半島南部、中国の南部から長江流域にかけての沿海部、および台湾など、東アジアの広範囲においてみられる特有の気象現象で、5月から7月にかけて来る曇りや雨の多い期間のこと。雨季の一種である。\t小笠原諸島\n",
            "a10336p0q1\tquestion: 梅雨とは何季の一種か? context: 梅雨<|n|>梅雨(つゆ、ばいう)は、北海道と小笠原諸島を除く日本、朝鮮半島南部、中国の南部から長江流域にかけての沿海部、および台湾など、東アジアの広範囲においてみられる特有の気象現象で、5月から7月にかけて来る曇りや雨の多い期間のこと。雨季の一種である。\t雨季\n",
            "a10336p0q2\tquestion: 梅雨は、世界的にどのあたりで見られる気象ですか? context: 梅雨<|n|>梅雨(つゆ、ばいう)は、北海道と小笠原諸島を除く日本、朝鮮半島南部、中国の南部から長江流域にかけての沿海部、および台湾など、東アジアの広範囲においてみられる特有の気象現象で、5月から7月にかけて来る曇りや雨の多い期間のこと。雨季の一種である。\t東アジアの広範囲\n"
          ]
        }
      ],
      "source": [
        "!head -3 data/test.tsv"
      ]
    },
    {
      "cell_type": "markdown",
      "metadata": {
        "id": "WP1hD944aFJp"
      },
      "source": [
        "# 学習に必要なクラス等の定義\n",
        "\n",
        "学習にはPyTorch/PyTorch-lightning/Transformersを利用します。"
      ]
    },
    {
      "cell_type": "code",
      "execution_count": 32,
      "metadata": {
        "id": "15ZzooLKA-j5"
      },
      "outputs": [],
      "source": [
        "import argparse\n",
        "import glob\n",
        "import os\n",
        "import json\n",
        "import time\n",
        "import logging\n",
        "import random\n",
        "import re\n",
        "from itertools import chain\n",
        "from string import punctuation\n",
        "\n",
        "import numpy as np\n",
        "import torch\n",
        "from torch.utils.data import Dataset, DataLoader\n",
        "import pytorch_lightning as pl\n",
        "\n",
        "\n",
        "from transformers import (\n",
        "    T5ForConditionalGeneration,\n",
        "    T5Tokenizer,\n",
        "    get_linear_schedule_with_warmup\n",
        ")\n",
        "\n",
        "from torch.optim import AdamW\n",
        "\n",
        "# 乱数シードの設定\n",
        "def set_seed(seed):\n",
        "    random.seed(seed)\n",
        "    np.random.seed(seed)\n",
        "    torch.manual_seed(seed)\n",
        "    if torch.cuda.is_available():\n",
        "        torch.cuda.manual_seed_all(seed)\n",
        "\n",
        "set_seed(42)"
      ]
    },
    {
      "cell_type": "code",
      "execution_count": 33,
      "metadata": {
        "id": "v1EyFckzBV_Y"
      },
      "outputs": [],
      "source": [
        "# GPU利用有無\n",
        "USE_GPU = torch.cuda.is_available()\n",
        "\n",
        "# 各種ハイパーパラメータ\n",
        "args_dict = dict(\n",
        "    data_dir=\"/content/data\",  # データセットのディレクトリ\n",
        "    model_name_or_path=PRETRAINED_MODEL_NAME,\n",
        "    tokenizer_name_or_path=PRETRAINED_MODEL_NAME,\n",
        "\n",
        "    n_gpu=1 if USE_GPU else 0,\n",
        "    early_stop_callback=False,\n",
        "    fp_16=False,\n",
        "    opt_level='O1',\n",
        "    max_grad_norm=1.0,\n",
        "    seed=42,\n",
        ")"
      ]
    },
    {
      "cell_type": "markdown",
      "metadata": {
        "id": "4kmjeVRaakCT"
      },
      "source": [
        "## TSVデータセットクラス\n",
        "\n",
        "TSV形式のファイルをデータセットとして読み込みます。  \n",
        "形式は\"{QA_ID}\\t{question: 質問文 context: コンテキスト}\\t{答え}\"です。"
      ]
    },
    {
      "cell_type": "code",
      "execution_count": 34,
      "metadata": {
        "id": "uEgMB3pjD6q_"
      },
      "outputs": [],
      "source": [
        "class TsvDataset(Dataset):\n",
        "    def __init__(self, tokenizer, data_dir, type_path, input_max_len=512, target_max_len=512):\n",
        "        self.file_path = os.path.join(data_dir, type_path)\n",
        "        \n",
        "        self.input_max_len = input_max_len\n",
        "        self.target_max_len = target_max_len\n",
        "        self.tokenizer = tokenizer\n",
        "        self.inputs = []\n",
        "        self.targets = []\n",
        "        self.qa_ids = []\n",
        "\n",
        "        self._build()\n",
        "  \n",
        "    def __len__(self):\n",
        "        return len(self.inputs)\n",
        "  \n",
        "    def __getitem__(self, index):\n",
        "        source_ids = self.inputs[index][\"input_ids\"].squeeze()\n",
        "        target_ids = self.targets[index][\"input_ids\"].squeeze()\n",
        "\n",
        "        source_mask = self.inputs[index][\"attention_mask\"].squeeze()\n",
        "        target_mask = self.targets[index][\"attention_mask\"].squeeze()\n",
        "\n",
        "        qa_id = self.qa_ids[index]\n",
        "\n",
        "        return {\"source_ids\": source_ids, \"source_mask\": source_mask, \n",
        "                \"target_ids\": target_ids, \"target_mask\": target_mask,\n",
        "                \"qa_id\": qa_id}\n",
        "\n",
        "    def _build(self):\n",
        "        with open(self.file_path, \"r\", encoding=\"utf-8\") as f:\n",
        "            for line in f:\n",
        "                line = line.strip().split(\"\\t\")\n",
        "                assert len(line) == 3\n",
        "                assert len(line[0]) > 0\n",
        "                assert len(line[1]) > 0\n",
        "                assert len(line[2]) > 0\n",
        "\n",
        "                qa_id = line[0].strip()\n",
        "                input = line[1].strip()\n",
        "                target = line[2].strip()\n",
        "\n",
        "                tokenized_inputs = self.tokenizer.batch_encode_plus(\n",
        "                    [input], max_length=self.input_max_len, truncation=True, \n",
        "                    padding=\"max_length\", return_tensors=\"pt\"\n",
        "                )\n",
        "\n",
        "                tokenized_targets = self.tokenizer.batch_encode_plus(\n",
        "                    [target], max_length=self.target_max_len, truncation=True, \n",
        "                    padding=\"max_length\", return_tensors=\"pt\"\n",
        "                )\n",
        "\n",
        "                self.inputs.append(tokenized_inputs)\n",
        "                self.targets.append(tokenized_targets)\n",
        "                self.qa_ids.append(qa_id)\n"
      ]
    },
    {
      "cell_type": "markdown",
      "metadata": {
        "id": "-WxUifqia09e"
      },
      "source": [
        "試しにテストデータ（test.tsv）を読み込み、トークナイズ結果をみてみます。"
      ]
    },
    {
      "cell_type": "code",
      "execution_count": 35,
      "metadata": {
        "id": "R-MdRkUSCD0m"
      },
      "outputs": [],
      "source": [
        "# トークナイザー（SentencePiece）モデルの読み込み\n",
        "tokenizer = T5Tokenizer.from_pretrained(PRETRAINED_MODEL_NAME)\n",
        "\n",
        "# テストデータセットの読み込み\n",
        "train_dataset = TsvDataset(tokenizer, args_dict[\"data_dir\"], \"test.tsv\", \n",
        "                           input_max_len=512, target_max_len=16)"
      ]
    },
    {
      "cell_type": "markdown",
      "metadata": {
        "id": "DURizjcAbB3-"
      },
      "source": [
        "テストデータの1レコード目をみてみます。"
      ]
    },
    {
      "cell_type": "code",
      "execution_count": 36,
      "metadata": {
        "colab": {
          "base_uri": "https://localhost:8080/"
        },
        "id": "iKKjKUi4IUdI",
        "outputId": "a99c4829-c90d-468f-f19c-928130d7b40d"
      },
      "outputs": [
        {
          "output_type": "stream",
          "name": "stdout",
          "text": [
            "A. ID\n",
            "a10336p0q0\n",
            "\n",
            "B. 入力データの元になる文字列\n",
            "question: 日本で梅雨がないのは北海道とどこか。 context: 梅雨<|n|>梅雨(つゆ、ばいう)は、北海道と小笠原諸島を除く日本、朝鮮半島南部、中国の南部から長江流域にかけての沿海部、および台湾など、東アジアの広範囲においてみられる特有の気象現象で、5月から7月にかけて来る曇りや雨の多い期間のこと。雨季の一種である。</s><pad><pad><pad><pad><pad><pad><pad><pad><pad><pad><pad><pad><pad><pad><pad><pad><pad><pad><pad><pad><pad><pad><pad><pad><pad><pad><pad><pad><pad><pad><pad><pad><pad><pad><pad><pad><pad><pad><pad><pad><pad><pad><pad><pad><pad><pad><pad><pad><pad><pad><pad><pad><pad><pad><pad><pad><pad><pad><pad><pad><pad><pad><pad><pad><pad><pad><pad><pad><pad><pad><pad><pad><pad><pad><pad><pad><pad><pad><pad><pad><pad><pad><pad><pad><pad><pad><pad><pad><pad><pad><pad><pad><pad><pad><pad><pad><pad><pad><pad><pad><pad><pad><pad><pad><pad><pad><pad><pad><pad><pad><pad><pad><pad><pad><pad><pad><pad><pad><pad><pad><pad><pad><pad><pad><pad><pad><pad><pad><pad><pad><pad><pad><pad><pad><pad><pad><pad><pad><pad><pad><pad><pad><pad><pad><pad><pad><pad><pad><pad><pad><pad><pad><pad><pad><pad><pad><pad><pad><pad><pad><pad><pad><pad><pad><pad><pad><pad><pad><pad><pad><pad><pad><pad><pad><pad><pad><pad><pad><pad><pad><pad><pad><pad><pad><pad><pad><pad><pad><pad><pad><pad><pad><pad><pad><pad><pad><pad><pad><pad><pad><pad><pad><pad><pad><pad><pad><pad><pad><pad><pad><pad><pad><pad><pad><pad><pad><pad><pad><pad><pad><pad><pad><pad><pad><pad><pad><pad><pad><pad><pad><pad><pad><pad><pad><pad><pad><pad><pad><pad><pad><pad><pad><pad><pad><pad><pad><pad><pad><pad><pad><pad><pad><pad><pad><pad><pad><pad><pad><pad><pad><pad><pad><pad><pad><pad><pad><pad><pad><pad><pad><pad><pad><pad><pad><pad><pad><pad><pad><pad><pad><pad><pad><pad><pad><pad><pad><pad><pad><pad><pad><pad><pad><pad><pad><pad><pad><pad><pad><pad><pad><pad><pad><pad><pad><pad><pad><pad><pad><pad><pad><pad><pad><pad><pad><pad><pad><pad><pad><pad><pad><pad><pad><pad><pad><pad><pad><pad><pad><pad><pad><pad><pad><pad><pad><pad><pad><pad><pad><pad><pad><pad><pad><pad><pad><pad><pad><pad><pad><pad><pad><pad><pad><pad><pad><pad><pad><pad><pad><pad><pad><pad><pad><pad><pad><pad><pad><pad><pad><pad><pad><pad><pad><pad><pad><pad><pad><pad><pad><pad><pad><pad><pad><pad><pad><pad><pad><pad><pad><pad><pad><pad><pad><pad><pad><pad><pad><pad><pad><pad><pad><pad><pad><pad><pad><pad><pad><pad><pad><pad><pad><pad><pad><pad><pad><pad><pad><pad><pad><pad><pad><pad><pad><pad><pad><pad>\n",
            "\n",
            "C. 入力データ（Aの文字列がトークナイズされたトークンID列）\n",
            "tensor([    5, 28003,  5863,    36,   966,    15,  3106,  1476,  1875,     6,\n",
            "            7,   981,    16, 15603,     4,  6844, 30711,    36,     5,  3106,\n",
            "         1476, 10570,  3459,   249,  3459,  7476,  3106,  1476,    10,   209,\n",
            "         2328,     3,   803,  9519,    11,     7,     3,   981,    16, 30013,\n",
            "         2518,    93,     3, 10708,  1090,     3,  3721,  1090,    24, 23202,\n",
            "         7064,  7782, 30684,   127,     3,   146,  1437,    42,     3, 11851,\n",
            "            6, 13481,   124, 10477, 12050,  6199,  2398,    15,     3,    39,\n",
            "         1013,    44,  8077,  7041, 28932,    98,    22,  1476,  6576,  1494,\n",
            "         3366,     4,  1476,  4765, 10593,     4,     1,     0,     0,     0,\n",
            "            0,     0,     0,     0,     0,     0,     0,     0,     0,     0,\n",
            "            0,     0,     0,     0,     0,     0,     0,     0,     0,     0,\n",
            "            0,     0,     0,     0,     0,     0,     0,     0,     0,     0,\n",
            "            0,     0,     0,     0,     0,     0,     0,     0,     0,     0,\n",
            "            0,     0,     0,     0,     0,     0,     0,     0,     0,     0,\n",
            "            0,     0,     0,     0,     0,     0,     0,     0,     0,     0,\n",
            "            0,     0,     0,     0,     0,     0,     0,     0,     0,     0,\n",
            "            0,     0,     0,     0,     0,     0,     0,     0,     0,     0,\n",
            "            0,     0,     0,     0,     0,     0,     0,     0,     0,     0,\n",
            "            0,     0,     0,     0,     0,     0,     0,     0,     0,     0,\n",
            "            0,     0,     0,     0,     0,     0,     0,     0,     0,     0,\n",
            "            0,     0,     0,     0,     0,     0,     0,     0,     0,     0,\n",
            "            0,     0,     0,     0,     0,     0,     0,     0,     0,     0,\n",
            "            0,     0,     0,     0,     0,     0,     0,     0,     0,     0,\n",
            "            0,     0,     0,     0,     0,     0,     0,     0,     0,     0,\n",
            "            0,     0,     0,     0,     0,     0,     0,     0,     0,     0,\n",
            "            0,     0,     0,     0,     0,     0,     0,     0,     0,     0,\n",
            "            0,     0,     0,     0,     0,     0,     0,     0,     0,     0,\n",
            "            0,     0,     0,     0,     0,     0,     0,     0,     0,     0,\n",
            "            0,     0,     0,     0,     0,     0,     0,     0,     0,     0,\n",
            "            0,     0,     0,     0,     0,     0,     0,     0,     0,     0,\n",
            "            0,     0,     0,     0,     0,     0,     0,     0,     0,     0,\n",
            "            0,     0,     0,     0,     0,     0,     0,     0,     0,     0,\n",
            "            0,     0,     0,     0,     0,     0,     0,     0,     0,     0,\n",
            "            0,     0,     0,     0,     0,     0,     0,     0,     0,     0,\n",
            "            0,     0,     0,     0,     0,     0,     0,     0,     0,     0,\n",
            "            0,     0,     0,     0,     0,     0,     0,     0,     0,     0,\n",
            "            0,     0,     0,     0,     0,     0,     0,     0,     0,     0,\n",
            "            0,     0,     0,     0,     0,     0,     0,     0,     0,     0,\n",
            "            0,     0,     0,     0,     0,     0,     0,     0,     0,     0,\n",
            "            0,     0,     0,     0,     0,     0,     0,     0,     0,     0,\n",
            "            0,     0,     0,     0,     0,     0,     0,     0,     0,     0,\n",
            "            0,     0,     0,     0,     0,     0,     0,     0,     0,     0,\n",
            "            0,     0,     0,     0,     0,     0,     0,     0,     0,     0,\n",
            "            0,     0,     0,     0,     0,     0,     0,     0,     0,     0,\n",
            "            0,     0,     0,     0,     0,     0,     0,     0,     0,     0,\n",
            "            0,     0,     0,     0,     0,     0,     0,     0,     0,     0,\n",
            "            0,     0,     0,     0,     0,     0,     0,     0,     0,     0,\n",
            "            0,     0,     0,     0,     0,     0,     0,     0,     0,     0,\n",
            "            0,     0,     0,     0,     0,     0,     0,     0,     0,     0,\n",
            "            0,     0,     0,     0,     0,     0,     0,     0,     0,     0,\n",
            "            0,     0,     0,     0,     0,     0,     0,     0,     0,     0,\n",
            "            0,     0])\n",
            "\n",
            "D. 出力データの元になる文字列\n",
            "小笠原諸島</s><pad><pad><pad><pad><pad><pad><pad><pad><pad><pad><pad><pad><pad>\n",
            "\n",
            "E. 出力データ（Cの文字列がトークナイズされたトークンID列）\n",
            "tensor([    5, 30013,     1,     0,     0,     0,     0,     0,     0,     0,\n",
            "            0,     0,     0,     0,     0,     0])\n"
          ]
        }
      ],
      "source": [
        "for data in train_dataset:\n",
        "    print(\"A. ID\")\n",
        "    print(data[\"qa_id\"])\n",
        "    print()\n",
        "    print(\"B. 入力データの元になる文字列\")\n",
        "    print(tokenizer.decode(data[\"source_ids\"]))\n",
        "    print()\n",
        "    print(\"C. 入力データ（Aの文字列がトークナイズされたトークンID列）\")\n",
        "    print(data[\"source_ids\"])\n",
        "    print()\n",
        "    print(\"D. 出力データの元になる文字列\")\n",
        "    print(tokenizer.decode(data[\"target_ids\"]))\n",
        "    print()\n",
        "    print(\"E. 出力データ（Cの文字列がトークナイズされたトークンID列）\")\n",
        "    print(data[\"target_ids\"])\n",
        "    break"
      ]
    },
    {
      "cell_type": "markdown",
      "metadata": {
        "id": "sup3lX95bHLy"
      },
      "source": [
        "## 学習処理クラス\n",
        "\n",
        "[PyTorch-Lightning](https://github.com/PyTorchLightning/pytorch-lightning)を使って学習します。\n",
        "\n",
        "PyTorch-Lightningとは、機械学習の典型的な処理を簡潔に書くことができるフレームワークです。"
      ]
    },
    {
      "cell_type": "code",
      "execution_count": 37,
      "metadata": {
        "id": "9VTRkMzrw_Ec"
      },
      "outputs": [],
      "source": [
        "class T5FineTuner(pl.LightningModule):\n",
        "    def __init__(self, hparams):\n",
        "        super().__init__()\n",
        "        try:\n",
        "            self.hparams = hparams\n",
        "        except AttributeError:\n",
        "            self.save_hyperparameters(hparams)\n",
        "\n",
        "        # 事前学習済みモデルの読み込み\n",
        "        self.model = T5ForConditionalGeneration.from_pretrained(hparams.model_name_or_path)\n",
        "\n",
        "        # トークナイザーの読み込み\n",
        "        self.tokenizer = T5Tokenizer.from_pretrained(hparams.tokenizer_name_or_path, is_fast=False)\n",
        "\n",
        "    def forward(self, input_ids, attention_mask=None, decoder_input_ids=None, \n",
        "                decoder_attention_mask=None, labels=None):\n",
        "        \"\"\"順伝搬\"\"\"\n",
        "        return self.model(\n",
        "            input_ids,\n",
        "            attention_mask=attention_mask,\n",
        "            decoder_input_ids=decoder_input_ids,\n",
        "            decoder_attention_mask=decoder_attention_mask,\n",
        "            labels=labels\n",
        "        )\n",
        "\n",
        "    def _step(self, batch):\n",
        "        \"\"\"ロス計算\"\"\"\n",
        "        labels = batch[\"target_ids\"]\n",
        "\n",
        "        # All labels set to -100 are ignored (masked), \n",
        "        # the loss is only computed for labels in [0, ..., config.vocab_size]\n",
        "        labels[labels[:, :] == self.tokenizer.pad_token_id] = -100\n",
        "\n",
        "        outputs = self(\n",
        "            input_ids=batch[\"source_ids\"],\n",
        "            attention_mask=batch[\"source_mask\"],\n",
        "            decoder_attention_mask=batch['target_mask'],\n",
        "            labels=labels\n",
        "        )\n",
        "\n",
        "        loss = outputs[0]\n",
        "        return loss\n",
        "\n",
        "    def training_step(self, batch, batch_idx):\n",
        "        \"\"\"訓練ステップ処理\"\"\"\n",
        "        loss = self._step(batch)\n",
        "        self.log(\"train_loss\", loss, batch_size=self.hparams.train_batch_size)\n",
        "        return {\"loss\": loss}\n",
        "\n",
        "    def validation_step(self, batch, batch_idx):\n",
        "        \"\"\"バリデーションステップ処理\"\"\"\n",
        "        loss = self._step(batch)\n",
        "        self.log(\"val_loss\", loss, batch_size=self.hparams.eval_batch_size)\n",
        "        return {\"val_loss\": loss}\n",
        "\n",
        "    def validation_epoch_end(self, outputs):\n",
        "        \"\"\"バリデーション完了処理\"\"\"\n",
        "        avg_loss = torch.stack([x[\"val_loss\"] for x in outputs]).mean()\n",
        "        self.log(\"ptl/val_loss\", avg_loss, prog_bar=True, batch_size=self.hparams.eval_batch_size)\n",
        "\n",
        "    def test_step(self, batch, batch_idx):\n",
        "        \"\"\"テストステップ処理\"\"\"\n",
        "        loss = self._step(batch)\n",
        "        self.log(\"test_loss\", loss, batch_size=self.hparams.eval_batch_size)\n",
        "        return {\"test_loss\": loss}\n",
        "\n",
        "    def test_epoch_end(self, outputs):\n",
        "        \"\"\"テスト完了処理\"\"\"\n",
        "        avg_loss = torch.stack([x[\"test_loss\"] for x in outputs]).mean()\n",
        "        self.log(\"ptl/test_loss\", avg_loss, prog_bar=True, batch_size=self.hparams.eval_batch_size)\n",
        "\n",
        "    def configure_optimizers(self):\n",
        "        \"\"\"オプティマイザーとスケジューラーを作成する\"\"\"\n",
        "        model = self.model\n",
        "        no_decay = [\"bias\", \"LayerNorm.weight\"]\n",
        "        optimizer_grouped_parameters = [\n",
        "            {\n",
        "                \"params\": [p for n, p in model.named_parameters() \n",
        "                            if not any(nd in n for nd in no_decay)],\n",
        "                \"weight_decay\": self.hparams.weight_decay,\n",
        "            },\n",
        "            {\n",
        "                \"params\": [p for n, p in model.named_parameters() \n",
        "                            if any(nd in n for nd in no_decay)],\n",
        "                \"weight_decay\": 0.0,\n",
        "            },\n",
        "        ]\n",
        "        optimizer = AdamW(optimizer_grouped_parameters, \n",
        "                          lr=self.hparams.learning_rate, \n",
        "                          eps=self.hparams.adam_epsilon)\n",
        "\n",
        "        scheduler = get_linear_schedule_with_warmup(\n",
        "            optimizer, num_warmup_steps=self.hparams.warmup_steps, \n",
        "            num_training_steps=self.t_total\n",
        "        )\n",
        "\n",
        "        return [optimizer], [{\"scheduler\": scheduler, \"interval\": \"step\", \"frequency\": 1}]\n",
        "\n",
        "    def get_dataset(self, tokenizer, type_path, args):\n",
        "        \"\"\"データセットを作成する\"\"\"\n",
        "        return TsvDataset(\n",
        "            tokenizer=tokenizer, \n",
        "            data_dir=args.data_dir, \n",
        "            type_path=type_path, \n",
        "            input_max_len=args.max_input_length,\n",
        "            target_max_len=args.max_target_length)\n",
        "    \n",
        "    def setup(self, stage=None):\n",
        "        \"\"\"初期設定（データセットの読み込み）\"\"\"\n",
        "        if stage == 'fit' or stage is None:\n",
        "            train_dataset = self.get_dataset(tokenizer=self.tokenizer, \n",
        "                                             type_path=\"train.tsv\", args=self.hparams)\n",
        "            self.train_dataset = train_dataset\n",
        "\n",
        "            val_dataset = self.get_dataset(tokenizer=self.tokenizer, \n",
        "                                           type_path=\"dev.tsv\", args=self.hparams)\n",
        "            self.val_dataset = val_dataset\n",
        "\n",
        "            self.t_total = (\n",
        "                (len(train_dataset) // (self.hparams.train_batch_size * max(1, self.hparams.n_gpu)))\n",
        "                // self.hparams.gradient_accumulation_steps\n",
        "                * float(self.hparams.num_train_epochs)\n",
        "            )\n",
        "\n",
        "    def train_dataloader(self):\n",
        "        \"\"\"訓練データローダーを作成する\"\"\"\n",
        "        return DataLoader(self.train_dataset, \n",
        "                          batch_size=self.hparams.train_batch_size, \n",
        "                          drop_last=True, shuffle=True, num_workers=4)\n",
        "\n",
        "    def val_dataloader(self):\n",
        "        \"\"\"バリデーションデータローダーを作成する\"\"\"\n",
        "        return DataLoader(self.val_dataset, \n",
        "                          batch_size=self.hparams.eval_batch_size, \n",
        "                          num_workers=4)\n"
      ]
    },
    {
      "cell_type": "markdown",
      "metadata": {
        "id": "86aExwD_cG_g"
      },
      "source": [
        "# 転移学習を実行"
      ]
    },
    {
      "cell_type": "code",
      "execution_count": 38,
      "metadata": {
        "id": "e80VBR4bIhnM"
      },
      "outputs": [],
      "source": [
        "# 学習に用いるハイパーパラメータを設定する\n",
        "args_dict.update({\n",
        "    \"max_input_length\":  384,  # 入力文の最大トークン数\n",
        "    \"max_target_length\": 16,  # 出力文の最大トークン数\n",
        "    \"train_batch_size\":  12,\n",
        "    \"eval_batch_size\":   32,\n",
        "    \"num_train_epochs\":  2,\n",
        "\n",
        "    \"learning_rate\": 5e-4,\n",
        "    \"weight_decay\": 0.0,\n",
        "    \"adam_epsilon\": 1e-8,\n",
        "    \"warmup_steps\": 50,\n",
        "    \"gradient_accumulation_steps\": 8,\n",
        "    })\n",
        "args = argparse.Namespace(**args_dict)\n",
        "\n",
        "\n",
        "# checkpoint_callback = pl.callbacks.ModelCheckpoint(\n",
        "#     \"/content/checkpoints\", \n",
        "#     monitor=\"val_loss\", mode=\"min\", save_top_k=1\n",
        "# )\n",
        "\n",
        "train_params = dict(\n",
        "    accumulate_grad_batches=args.gradient_accumulation_steps,\n",
        "    accelerator='gpu' if args.n_gpu > 0 else 'cpu',\n",
        "    devices=args.n_gpu,\n",
        "    max_epochs=args.num_train_epochs,\n",
        "    precision= 16 if args.fp_16 else 32,\n",
        "    amp_level=args.opt_level,\n",
        "    gradient_clip_val=args.max_grad_norm,\n",
        "    # checkpoint_callback=checkpoint_callback,\n",
        "    amp_backend='apex',\n",
        ")"
      ]
    },
    {
      "cell_type": "code",
      "execution_count": 39,
      "metadata": {
        "colab": {
          "base_uri": "https://localhost:8080/",
          "height": 309,
          "referenced_widgets": [
            "554952e71ed6453f81c0dbb047df860f",
            "57b7dcdfab53480f8a0ea7c0325bf76e",
            "dc6e298efd3f478fb6ac7a08abcc9fb6",
            "a40a80955ec44e769bcacca5e0f26d06",
            "76a8f74b9e0a441eae91d0eae6ddfffb",
            "63125c11183c4920ab978c0c19a841fb",
            "eb37d4eb1c1340b6b840e41cdbab1844",
            "aa365d75799b4a10985248dad453a2f7",
            "3cb67a7bef574ee6a5d8e6ee12e7ce93",
            "02f6867c3d364e3d8a63b140e02500bf",
            "dfec9cfca63d4a7280be4507f287e266",
            "cf02bffec194459d92b2d2367efa82e2",
            "0584ee31fd794ee7b69713438a75260b",
            "f2088a69a6e94a7b9e077035976ff04f",
            "51e75021b368456294fb3c11276033a7",
            "3075b19cb5b4447a8521fff29764f63e",
            "731800f68efb4826b795fbfdd00dfa0b",
            "8a89d94c0b7e4581ba335a23dbe4965f",
            "80b26c6a04694febbaac8e4157196460",
            "474fe54d042849cbbbabf16838526b17",
            "a83eea7896dc48a7a674b12aab6f9aa2",
            "fcd7858a562d4f719c96cca59898f8c6",
            "292870c39d524ca5a3a5923ba22345cf",
            "c1ee5c59ee804bf683a76b9832d71cc9",
            "f6830902becf413f94c7a1e13f922e45",
            "5774533cb74944bf99b9e56be31f4a5b",
            "bb19846f46d14570b6a5fe106c631b66",
            "813401709ca547829f7917c68c5c65b0",
            "d8dfeb2a524c495ca247fa5ed05b0b7e",
            "efd9f53bbda6450f8476bd35c9bbfa85",
            "0dcad37ea6bf493d9837f0357ee61515",
            "c5707f6836984a27b9bf3710249140ef",
            "b8b48d1f40704b57b7a94d37c61b0c17",
            "682f28ccf47742db8986ba84ec2772b3",
            "0f7cad1e16ca46b1af01343fe21267aa",
            "2c1df0bbc93941568d5224298f88031a",
            "4943dee85bef4528a9571c80c36fca7e",
            "8c764124682544e696ef9e71f5771726",
            "ccbdc35d99324e709cf8920fe0cd83e5",
            "417eebb637744409ba45cf6ff87dfbbf",
            "344ae3b6eb774df6b466b4bbe907e392",
            "68226d7b09ce4c728c276c2ccf919be9",
            "d9587a0c09024753863b87f641f60ddc",
            "48909651862e4eb78bd1e22a00d34883"
          ]
        },
        "id": "Xsw-yg-4LiV-",
        "outputId": "eb45cfe0-e2b8-4658-be8f-70829f61f38c"
      },
      "outputs": [
        {
          "output_type": "stream",
          "name": "stderr",
          "text": [
            "INFO:pytorch_lightning.utilities.rank_zero:GPU available: True (cuda), used: True\n",
            "INFO:pytorch_lightning.utilities.rank_zero:TPU available: False, using: 0 TPU cores\n",
            "INFO:pytorch_lightning.utilities.rank_zero:IPU available: False, using: 0 IPUs\n",
            "INFO:pytorch_lightning.utilities.rank_zero:HPU available: False, using: 0 HPUs\n",
            "INFO:pytorch_lightning.accelerators.cuda:LOCAL_RANK: 0 - CUDA_VISIBLE_DEVICES: [0]\n",
            "INFO:pytorch_lightning.callbacks.model_summary:\n",
            "  | Name  | Type                       | Params\n",
            "-----------------------------------------------------\n",
            "0 | model | T5ForConditionalGeneration | 222 M \n",
            "-----------------------------------------------------\n",
            "222 M     Trainable params\n",
            "0         Non-trainable params\n",
            "222 M     Total params\n",
            "891.614   Total estimated model params size (MB)\n"
          ]
        },
        {
          "output_type": "display_data",
          "data": {
            "text/plain": [
              "Sanity Checking: 0it [00:00, ?it/s]"
            ],
            "application/vnd.jupyter.widget-view+json": {
              "version_major": 2,
              "version_minor": 0,
              "model_id": "554952e71ed6453f81c0dbb047df860f"
            }
          },
          "metadata": {}
        },
        {
          "output_type": "display_data",
          "data": {
            "text/plain": [
              "Training: 0it [00:00, ?it/s]"
            ],
            "application/vnd.jupyter.widget-view+json": {
              "version_major": 2,
              "version_minor": 0,
              "model_id": "cf02bffec194459d92b2d2367efa82e2"
            }
          },
          "metadata": {}
        },
        {
          "output_type": "display_data",
          "data": {
            "text/plain": [
              "Validation: 0it [00:00, ?it/s]"
            ],
            "application/vnd.jupyter.widget-view+json": {
              "version_major": 2,
              "version_minor": 0,
              "model_id": "292870c39d524ca5a3a5923ba22345cf"
            }
          },
          "metadata": {}
        },
        {
          "output_type": "display_data",
          "data": {
            "text/plain": [
              "Validation: 0it [00:00, ?it/s]"
            ],
            "application/vnd.jupyter.widget-view+json": {
              "version_major": 2,
              "version_minor": 0,
              "model_id": "682f28ccf47742db8986ba84ec2772b3"
            }
          },
          "metadata": {}
        },
        {
          "output_type": "stream",
          "name": "stderr",
          "text": [
            "INFO:pytorch_lightning.utilities.rank_zero:`Trainer.fit` stopped: `max_epochs=2` reached.\n"
          ]
        }
      ],
      "source": [
        "# 転移学習の実行（GPUを利用すれば1エポック10分程度）\n",
        "model = T5FineTuner(args)\n",
        "trainer = pl.Trainer(**train_params)\n",
        "trainer.fit(model)\n",
        "\n",
        "# 最終エポックのモデルを保存\n",
        "model.tokenizer.save_pretrained(MODEL_DIR)\n",
        "model.model.save_pretrained(MODEL_DIR)\n",
        "\n",
        "del model"
      ]
    },
    {
      "cell_type": "markdown",
      "metadata": {
        "id": "D3Rz4DCbdTt1"
      },
      "source": [
        "# 学習済みモデルの読み込み"
      ]
    },
    {
      "cell_type": "code",
      "execution_count": 40,
      "metadata": {
        "id": "uCCzprs3Btb8"
      },
      "outputs": [],
      "source": [
        "import torch\n",
        "from torch.utils.data import Dataset, DataLoader\n",
        "from transformers import T5ForConditionalGeneration, T5Tokenizer\n",
        "\n",
        "# トークナイザー（SentencePiece）\n",
        "tokenizer = T5Tokenizer.from_pretrained(MODEL_DIR)\n",
        "\n",
        "# 学習済みモデル\n",
        "trained_model = T5ForConditionalGeneration.from_pretrained(MODEL_DIR)\n",
        "\n",
        "# GPUの利用有無\n",
        "USE_GPU = torch.cuda.is_available()\n",
        "if USE_GPU:\n",
        "    trained_model.cuda()"
      ]
    },
    {
      "cell_type": "markdown",
      "metadata": {
        "id": "xk_RiWWfdjNp"
      },
      "source": [
        "# テストデータに対する予測精度を評価"
      ]
    },
    {
      "cell_type": "code",
      "execution_count": 41,
      "metadata": {
        "id": "H7qyYdvrEm-9",
        "colab": {
          "base_uri": "https://localhost:8080/",
          "height": 104,
          "referenced_widgets": [
            "b7e6258f2c3241a0a48e02b58de5dd85",
            "4184e9a404714643ac82f8eecf6e2bbe",
            "8892633cc4974820b886c2505ed050ad",
            "2c9fc8273ae241c29c008ab1d85e9561",
            "dae16ad53aa84ddc8af345b89ee5537f",
            "9dbcf4140ea94f38a50682d811129466",
            "142e0f9b710548a591981004066df6e6",
            "7a09e601a055447596fe1c6d635ca394",
            "bb3c14ac0ff54f1798be3e1e07d3fa3f",
            "e21efb04e00f48709bf6ed4b957d2728",
            "64cf2fb74fe24ff590fe705598692e3b"
          ]
        },
        "outputId": "d0a76147-37ed-4b00-b9a2-cfe7d087d9c4"
      },
      "outputs": [
        {
          "output_type": "stream",
          "name": "stderr",
          "text": [
            "/usr/local/lib/python3.8/dist-packages/torch/utils/data/dataloader.py:554: UserWarning: This DataLoader will create 4 worker processes in total. Our suggested max number of worker in current system is 2, which is smaller than what this DataLoader is going to create. Please be aware that excessive worker creation might get DataLoader running slow or even freeze, lower the worker number to avoid potential slowness/freeze if necessary.\n",
            "  warnings.warn(_create_warning_msg(\n"
          ]
        },
        {
          "output_type": "display_data",
          "data": {
            "text/plain": [
              "  0%|          | 0/139 [00:00<?, ?it/s]"
            ],
            "application/vnd.jupyter.widget-view+json": {
              "version_major": 2,
              "version_minor": 0,
              "model_id": "b7e6258f2c3241a0a48e02b58de5dd85"
            }
          },
          "metadata": {}
        }
      ],
      "source": [
        "import textwrap\n",
        "from tqdm.auto import tqdm\n",
        "from sklearn import metrics\n",
        "import collections\n",
        "\n",
        "# テストデータの読み込み\n",
        "test_dataset = TsvDataset(tokenizer, args_dict[\"data_dir\"], \"test.tsv\", \n",
        "                          input_max_len=args.max_input_length, \n",
        "                          target_max_len=args.max_target_length)\n",
        "\n",
        "test_loader = DataLoader(test_dataset, batch_size=32, num_workers=4)\n",
        "\n",
        "trained_model.eval()\n",
        "\n",
        "predictions = collections.OrderedDict()\n",
        "outputs = []\n",
        "targets = []\n",
        "\n",
        "def untokenize(ids):\n",
        "    token_texts = [tokenizer.decode([id], skip_special_tokens=True).strip() for id in ids]\n",
        "    token_texts = [t for t in token_texts if t != \"\"]\n",
        "    return token_texts\n",
        "\n",
        "# 注意: JSQuADのF1値計算の都合で、トークンの間に半角空白を入れた文字列に変換する。\n",
        "def decode_to_whitespace_delimited_tokens(sequences):\n",
        "    return [\" \".join(untokenize(ids.cpu().tolist())).strip() for ids in sequences]\n",
        "\n",
        "for batch in tqdm(test_loader):\n",
        "    input_ids = batch['source_ids']\n",
        "    input_mask = batch['source_mask']\n",
        "    qa_ids = batch['qa_id']\n",
        "    if USE_GPU:\n",
        "        input_ids = input_ids.cuda()\n",
        "        input_mask = input_mask.cuda()\n",
        "\n",
        "    outs = trained_model.generate(input_ids=input_ids, \n",
        "        attention_mask=input_mask, \n",
        "        max_length=args.max_target_length,\n",
        "        return_dict_in_generate=True,\n",
        "        output_scores=True)\n",
        "\n",
        "    dec = decode_to_whitespace_delimited_tokens(outs.sequences)\n",
        "    target = decode_to_whitespace_delimited_tokens(batch[\"target_ids\"])\n",
        "\n",
        "    outputs.extend(dec)\n",
        "    targets.extend(target)\n",
        "\n",
        "    for qa_id, output in zip(qa_ids, dec):\n",
        "        predictions[qa_id] = output\n"
      ]
    },
    {
      "cell_type": "code",
      "execution_count": 42,
      "metadata": {
        "id": "PSZOsMtu44Gk",
        "colab": {
          "base_uri": "https://localhost:8080/"
        },
        "outputId": "4d84e8a0-4c2f-47bb-d21f-d2b2020b03dc"
      },
      "outputs": [
        {
          "output_type": "stream",
          "name": "stderr",
          "text": [
            "100%|██████████| 59/59 [00:00<00:00, 136.21it/s]\n"
          ]
        }
      ],
      "source": [
        "from transformers.data.metrics.squad_metrics import squad_evaluate\n",
        "from transformers.data.processors.squad import SquadV2Processor\n",
        "\n",
        "processor = SquadV2Processor()\n",
        "examples = processor.get_dev_examples(\"/content/data\", filename=\"normalized-valid-v1.1.json\")"
      ]
    },
    {
      "cell_type": "markdown",
      "metadata": {
        "id": "ZlZLyaLzenwG"
      },
      "source": [
        "## 精度評価\n",
        "\n",
        "- EM: 文字列が完全一致した割合\n",
        "- F1: トークンが一致した割合のF1値"
      ]
    },
    {
      "cell_type": "code",
      "source": [
        "results = squad_evaluate(examples, predictions)\n",
        "print(f\"EM: {results['exact']}\\nF1: {results['f1']}\")"
      ],
      "metadata": {
        "colab": {
          "base_uri": "https://localhost:8080/"
        },
        "id": "Hd2OaQaQqHN7",
        "outputId": "813ece90-607d-4f74-820a-dac47dfcec7b"
      },
      "execution_count": 43,
      "outputs": [
        {
          "output_type": "stream",
          "name": "stdout",
          "text": [
            "EM: 89.89194056731202\n",
            "F1: 94.53107897603269\n"
          ]
        }
      ]
    },
    {
      "cell_type": "code",
      "source": [],
      "metadata": {
        "id": "yBISC5EdQTkC"
      },
      "execution_count": null,
      "outputs": []
    }
  ],
  "metadata": {
    "accelerator": "GPU",
    "colab": {
      "name": "t5_JSQuAD.ipynb",
      "provenance": []
    },
    "kernelspec": {
      "display_name": "Python 3",
      "name": "python3"
    },
    "widgets": {
      "application/vnd.jupyter.widget-state+json": {
        "554952e71ed6453f81c0dbb047df860f": {
          "model_module": "@jupyter-widgets/controls",
          "model_name": "HBoxModel",
          "model_module_version": "1.5.0",
          "state": {
            "_dom_classes": [],
            "_model_module": "@jupyter-widgets/controls",
            "_model_module_version": "1.5.0",
            "_model_name": "HBoxModel",
            "_view_count": null,
            "_view_module": "@jupyter-widgets/controls",
            "_view_module_version": "1.5.0",
            "_view_name": "HBoxView",
            "box_style": "",
            "children": [
              "IPY_MODEL_57b7dcdfab53480f8a0ea7c0325bf76e",
              "IPY_MODEL_dc6e298efd3f478fb6ac7a08abcc9fb6",
              "IPY_MODEL_a40a80955ec44e769bcacca5e0f26d06"
            ],
            "layout": "IPY_MODEL_76a8f74b9e0a441eae91d0eae6ddfffb"
          }
        },
        "57b7dcdfab53480f8a0ea7c0325bf76e": {
          "model_module": "@jupyter-widgets/controls",
          "model_name": "HTMLModel",
          "model_module_version": "1.5.0",
          "state": {
            "_dom_classes": [],
            "_model_module": "@jupyter-widgets/controls",
            "_model_module_version": "1.5.0",
            "_model_name": "HTMLModel",
            "_view_count": null,
            "_view_module": "@jupyter-widgets/controls",
            "_view_module_version": "1.5.0",
            "_view_name": "HTMLView",
            "description": "",
            "description_tooltip": null,
            "layout": "IPY_MODEL_63125c11183c4920ab978c0c19a841fb",
            "placeholder": "​",
            "style": "IPY_MODEL_eb37d4eb1c1340b6b840e41cdbab1844",
            "value": "Sanity Checking DataLoader 0: 100%"
          }
        },
        "dc6e298efd3f478fb6ac7a08abcc9fb6": {
          "model_module": "@jupyter-widgets/controls",
          "model_name": "FloatProgressModel",
          "model_module_version": "1.5.0",
          "state": {
            "_dom_classes": [],
            "_model_module": "@jupyter-widgets/controls",
            "_model_module_version": "1.5.0",
            "_model_name": "FloatProgressModel",
            "_view_count": null,
            "_view_module": "@jupyter-widgets/controls",
            "_view_module_version": "1.5.0",
            "_view_name": "ProgressView",
            "bar_style": "",
            "description": "",
            "description_tooltip": null,
            "layout": "IPY_MODEL_aa365d75799b4a10985248dad453a2f7",
            "max": 2,
            "min": 0,
            "orientation": "horizontal",
            "style": "IPY_MODEL_3cb67a7bef574ee6a5d8e6ee12e7ce93",
            "value": 2
          }
        },
        "a40a80955ec44e769bcacca5e0f26d06": {
          "model_module": "@jupyter-widgets/controls",
          "model_name": "HTMLModel",
          "model_module_version": "1.5.0",
          "state": {
            "_dom_classes": [],
            "_model_module": "@jupyter-widgets/controls",
            "_model_module_version": "1.5.0",
            "_model_name": "HTMLModel",
            "_view_count": null,
            "_view_module": "@jupyter-widgets/controls",
            "_view_module_version": "1.5.0",
            "_view_name": "HTMLView",
            "description": "",
            "description_tooltip": null,
            "layout": "IPY_MODEL_02f6867c3d364e3d8a63b140e02500bf",
            "placeholder": "​",
            "style": "IPY_MODEL_dfec9cfca63d4a7280be4507f287e266",
            "value": " 2/2 [00:01&lt;00:00,  1.94it/s]"
          }
        },
        "76a8f74b9e0a441eae91d0eae6ddfffb": {
          "model_module": "@jupyter-widgets/base",
          "model_name": "LayoutModel",
          "model_module_version": "1.2.0",
          "state": {
            "_model_module": "@jupyter-widgets/base",
            "_model_module_version": "1.2.0",
            "_model_name": "LayoutModel",
            "_view_count": null,
            "_view_module": "@jupyter-widgets/base",
            "_view_module_version": "1.2.0",
            "_view_name": "LayoutView",
            "align_content": null,
            "align_items": null,
            "align_self": null,
            "border": null,
            "bottom": null,
            "display": "inline-flex",
            "flex": null,
            "flex_flow": "row wrap",
            "grid_area": null,
            "grid_auto_columns": null,
            "grid_auto_flow": null,
            "grid_auto_rows": null,
            "grid_column": null,
            "grid_gap": null,
            "grid_row": null,
            "grid_template_areas": null,
            "grid_template_columns": null,
            "grid_template_rows": null,
            "height": null,
            "justify_content": null,
            "justify_items": null,
            "left": null,
            "margin": null,
            "max_height": null,
            "max_width": null,
            "min_height": null,
            "min_width": null,
            "object_fit": null,
            "object_position": null,
            "order": null,
            "overflow": null,
            "overflow_x": null,
            "overflow_y": null,
            "padding": null,
            "right": null,
            "top": null,
            "visibility": "hidden",
            "width": "100%"
          }
        },
        "63125c11183c4920ab978c0c19a841fb": {
          "model_module": "@jupyter-widgets/base",
          "model_name": "LayoutModel",
          "model_module_version": "1.2.0",
          "state": {
            "_model_module": "@jupyter-widgets/base",
            "_model_module_version": "1.2.0",
            "_model_name": "LayoutModel",
            "_view_count": null,
            "_view_module": "@jupyter-widgets/base",
            "_view_module_version": "1.2.0",
            "_view_name": "LayoutView",
            "align_content": null,
            "align_items": null,
            "align_self": null,
            "border": null,
            "bottom": null,
            "display": null,
            "flex": null,
            "flex_flow": null,
            "grid_area": null,
            "grid_auto_columns": null,
            "grid_auto_flow": null,
            "grid_auto_rows": null,
            "grid_column": null,
            "grid_gap": null,
            "grid_row": null,
            "grid_template_areas": null,
            "grid_template_columns": null,
            "grid_template_rows": null,
            "height": null,
            "justify_content": null,
            "justify_items": null,
            "left": null,
            "margin": null,
            "max_height": null,
            "max_width": null,
            "min_height": null,
            "min_width": null,
            "object_fit": null,
            "object_position": null,
            "order": null,
            "overflow": null,
            "overflow_x": null,
            "overflow_y": null,
            "padding": null,
            "right": null,
            "top": null,
            "visibility": null,
            "width": null
          }
        },
        "eb37d4eb1c1340b6b840e41cdbab1844": {
          "model_module": "@jupyter-widgets/controls",
          "model_name": "DescriptionStyleModel",
          "model_module_version": "1.5.0",
          "state": {
            "_model_module": "@jupyter-widgets/controls",
            "_model_module_version": "1.5.0",
            "_model_name": "DescriptionStyleModel",
            "_view_count": null,
            "_view_module": "@jupyter-widgets/base",
            "_view_module_version": "1.2.0",
            "_view_name": "StyleView",
            "description_width": ""
          }
        },
        "aa365d75799b4a10985248dad453a2f7": {
          "model_module": "@jupyter-widgets/base",
          "model_name": "LayoutModel",
          "model_module_version": "1.2.0",
          "state": {
            "_model_module": "@jupyter-widgets/base",
            "_model_module_version": "1.2.0",
            "_model_name": "LayoutModel",
            "_view_count": null,
            "_view_module": "@jupyter-widgets/base",
            "_view_module_version": "1.2.0",
            "_view_name": "LayoutView",
            "align_content": null,
            "align_items": null,
            "align_self": null,
            "border": null,
            "bottom": null,
            "display": null,
            "flex": "2",
            "flex_flow": null,
            "grid_area": null,
            "grid_auto_columns": null,
            "grid_auto_flow": null,
            "grid_auto_rows": null,
            "grid_column": null,
            "grid_gap": null,
            "grid_row": null,
            "grid_template_areas": null,
            "grid_template_columns": null,
            "grid_template_rows": null,
            "height": null,
            "justify_content": null,
            "justify_items": null,
            "left": null,
            "margin": null,
            "max_height": null,
            "max_width": null,
            "min_height": null,
            "min_width": null,
            "object_fit": null,
            "object_position": null,
            "order": null,
            "overflow": null,
            "overflow_x": null,
            "overflow_y": null,
            "padding": null,
            "right": null,
            "top": null,
            "visibility": null,
            "width": null
          }
        },
        "3cb67a7bef574ee6a5d8e6ee12e7ce93": {
          "model_module": "@jupyter-widgets/controls",
          "model_name": "ProgressStyleModel",
          "model_module_version": "1.5.0",
          "state": {
            "_model_module": "@jupyter-widgets/controls",
            "_model_module_version": "1.5.0",
            "_model_name": "ProgressStyleModel",
            "_view_count": null,
            "_view_module": "@jupyter-widgets/base",
            "_view_module_version": "1.2.0",
            "_view_name": "StyleView",
            "bar_color": null,
            "description_width": ""
          }
        },
        "02f6867c3d364e3d8a63b140e02500bf": {
          "model_module": "@jupyter-widgets/base",
          "model_name": "LayoutModel",
          "model_module_version": "1.2.0",
          "state": {
            "_model_module": "@jupyter-widgets/base",
            "_model_module_version": "1.2.0",
            "_model_name": "LayoutModel",
            "_view_count": null,
            "_view_module": "@jupyter-widgets/base",
            "_view_module_version": "1.2.0",
            "_view_name": "LayoutView",
            "align_content": null,
            "align_items": null,
            "align_self": null,
            "border": null,
            "bottom": null,
            "display": null,
            "flex": null,
            "flex_flow": null,
            "grid_area": null,
            "grid_auto_columns": null,
            "grid_auto_flow": null,
            "grid_auto_rows": null,
            "grid_column": null,
            "grid_gap": null,
            "grid_row": null,
            "grid_template_areas": null,
            "grid_template_columns": null,
            "grid_template_rows": null,
            "height": null,
            "justify_content": null,
            "justify_items": null,
            "left": null,
            "margin": null,
            "max_height": null,
            "max_width": null,
            "min_height": null,
            "min_width": null,
            "object_fit": null,
            "object_position": null,
            "order": null,
            "overflow": null,
            "overflow_x": null,
            "overflow_y": null,
            "padding": null,
            "right": null,
            "top": null,
            "visibility": null,
            "width": null
          }
        },
        "dfec9cfca63d4a7280be4507f287e266": {
          "model_module": "@jupyter-widgets/controls",
          "model_name": "DescriptionStyleModel",
          "model_module_version": "1.5.0",
          "state": {
            "_model_module": "@jupyter-widgets/controls",
            "_model_module_version": "1.5.0",
            "_model_name": "DescriptionStyleModel",
            "_view_count": null,
            "_view_module": "@jupyter-widgets/base",
            "_view_module_version": "1.2.0",
            "_view_name": "StyleView",
            "description_width": ""
          }
        },
        "cf02bffec194459d92b2d2367efa82e2": {
          "model_module": "@jupyter-widgets/controls",
          "model_name": "HBoxModel",
          "model_module_version": "1.5.0",
          "state": {
            "_dom_classes": [],
            "_model_module": "@jupyter-widgets/controls",
            "_model_module_version": "1.5.0",
            "_model_name": "HBoxModel",
            "_view_count": null,
            "_view_module": "@jupyter-widgets/controls",
            "_view_module_version": "1.5.0",
            "_view_name": "HBoxView",
            "box_style": "",
            "children": [
              "IPY_MODEL_0584ee31fd794ee7b69713438a75260b",
              "IPY_MODEL_f2088a69a6e94a7b9e077035976ff04f",
              "IPY_MODEL_51e75021b368456294fb3c11276033a7"
            ],
            "layout": "IPY_MODEL_3075b19cb5b4447a8521fff29764f63e"
          }
        },
        "0584ee31fd794ee7b69713438a75260b": {
          "model_module": "@jupyter-widgets/controls",
          "model_name": "HTMLModel",
          "model_module_version": "1.5.0",
          "state": {
            "_dom_classes": [],
            "_model_module": "@jupyter-widgets/controls",
            "_model_module_version": "1.5.0",
            "_model_name": "HTMLModel",
            "_view_count": null,
            "_view_module": "@jupyter-widgets/controls",
            "_view_module_version": "1.5.0",
            "_view_name": "HTMLView",
            "description": "",
            "description_tooltip": null,
            "layout": "IPY_MODEL_731800f68efb4826b795fbfdd00dfa0b",
            "placeholder": "​",
            "style": "IPY_MODEL_8a89d94c0b7e4581ba335a23dbe4965f",
            "value": "Epoch 1: 100%"
          }
        },
        "f2088a69a6e94a7b9e077035976ff04f": {
          "model_module": "@jupyter-widgets/controls",
          "model_name": "FloatProgressModel",
          "model_module_version": "1.5.0",
          "state": {
            "_dom_classes": [],
            "_model_module": "@jupyter-widgets/controls",
            "_model_module_version": "1.5.0",
            "_model_name": "FloatProgressModel",
            "_view_count": null,
            "_view_module": "@jupyter-widgets/controls",
            "_view_module_version": "1.5.0",
            "_view_name": "ProgressView",
            "bar_style": "success",
            "description": "",
            "description_tooltip": null,
            "layout": "IPY_MODEL_80b26c6a04694febbaac8e4157196460",
            "max": 5075,
            "min": 0,
            "orientation": "horizontal",
            "style": "IPY_MODEL_474fe54d042849cbbbabf16838526b17",
            "value": 5075
          }
        },
        "51e75021b368456294fb3c11276033a7": {
          "model_module": "@jupyter-widgets/controls",
          "model_name": "HTMLModel",
          "model_module_version": "1.5.0",
          "state": {
            "_dom_classes": [],
            "_model_module": "@jupyter-widgets/controls",
            "_model_module_version": "1.5.0",
            "_model_name": "HTMLModel",
            "_view_count": null,
            "_view_module": "@jupyter-widgets/controls",
            "_view_module_version": "1.5.0",
            "_view_name": "HTMLView",
            "description": "",
            "description_tooltip": null,
            "layout": "IPY_MODEL_a83eea7896dc48a7a674b12aab6f9aa2",
            "placeholder": "​",
            "style": "IPY_MODEL_fcd7858a562d4f719c96cca59898f8c6",
            "value": " 5075/5075 [1:25:06&lt;00:00,  1.01s/it, loss=0.141, v_num=1, ptl/val_loss=0.196]"
          }
        },
        "3075b19cb5b4447a8521fff29764f63e": {
          "model_module": "@jupyter-widgets/base",
          "model_name": "LayoutModel",
          "model_module_version": "1.2.0",
          "state": {
            "_model_module": "@jupyter-widgets/base",
            "_model_module_version": "1.2.0",
            "_model_name": "LayoutModel",
            "_view_count": null,
            "_view_module": "@jupyter-widgets/base",
            "_view_module_version": "1.2.0",
            "_view_name": "LayoutView",
            "align_content": null,
            "align_items": null,
            "align_self": null,
            "border": null,
            "bottom": null,
            "display": "inline-flex",
            "flex": null,
            "flex_flow": "row wrap",
            "grid_area": null,
            "grid_auto_columns": null,
            "grid_auto_flow": null,
            "grid_auto_rows": null,
            "grid_column": null,
            "grid_gap": null,
            "grid_row": null,
            "grid_template_areas": null,
            "grid_template_columns": null,
            "grid_template_rows": null,
            "height": null,
            "justify_content": null,
            "justify_items": null,
            "left": null,
            "margin": null,
            "max_height": null,
            "max_width": null,
            "min_height": null,
            "min_width": null,
            "object_fit": null,
            "object_position": null,
            "order": null,
            "overflow": null,
            "overflow_x": null,
            "overflow_y": null,
            "padding": null,
            "right": null,
            "top": null,
            "visibility": null,
            "width": "100%"
          }
        },
        "731800f68efb4826b795fbfdd00dfa0b": {
          "model_module": "@jupyter-widgets/base",
          "model_name": "LayoutModel",
          "model_module_version": "1.2.0",
          "state": {
            "_model_module": "@jupyter-widgets/base",
            "_model_module_version": "1.2.0",
            "_model_name": "LayoutModel",
            "_view_count": null,
            "_view_module": "@jupyter-widgets/base",
            "_view_module_version": "1.2.0",
            "_view_name": "LayoutView",
            "align_content": null,
            "align_items": null,
            "align_self": null,
            "border": null,
            "bottom": null,
            "display": null,
            "flex": null,
            "flex_flow": null,
            "grid_area": null,
            "grid_auto_columns": null,
            "grid_auto_flow": null,
            "grid_auto_rows": null,
            "grid_column": null,
            "grid_gap": null,
            "grid_row": null,
            "grid_template_areas": null,
            "grid_template_columns": null,
            "grid_template_rows": null,
            "height": null,
            "justify_content": null,
            "justify_items": null,
            "left": null,
            "margin": null,
            "max_height": null,
            "max_width": null,
            "min_height": null,
            "min_width": null,
            "object_fit": null,
            "object_position": null,
            "order": null,
            "overflow": null,
            "overflow_x": null,
            "overflow_y": null,
            "padding": null,
            "right": null,
            "top": null,
            "visibility": null,
            "width": null
          }
        },
        "8a89d94c0b7e4581ba335a23dbe4965f": {
          "model_module": "@jupyter-widgets/controls",
          "model_name": "DescriptionStyleModel",
          "model_module_version": "1.5.0",
          "state": {
            "_model_module": "@jupyter-widgets/controls",
            "_model_module_version": "1.5.0",
            "_model_name": "DescriptionStyleModel",
            "_view_count": null,
            "_view_module": "@jupyter-widgets/base",
            "_view_module_version": "1.2.0",
            "_view_name": "StyleView",
            "description_width": ""
          }
        },
        "80b26c6a04694febbaac8e4157196460": {
          "model_module": "@jupyter-widgets/base",
          "model_name": "LayoutModel",
          "model_module_version": "1.2.0",
          "state": {
            "_model_module": "@jupyter-widgets/base",
            "_model_module_version": "1.2.0",
            "_model_name": "LayoutModel",
            "_view_count": null,
            "_view_module": "@jupyter-widgets/base",
            "_view_module_version": "1.2.0",
            "_view_name": "LayoutView",
            "align_content": null,
            "align_items": null,
            "align_self": null,
            "border": null,
            "bottom": null,
            "display": null,
            "flex": "2",
            "flex_flow": null,
            "grid_area": null,
            "grid_auto_columns": null,
            "grid_auto_flow": null,
            "grid_auto_rows": null,
            "grid_column": null,
            "grid_gap": null,
            "grid_row": null,
            "grid_template_areas": null,
            "grid_template_columns": null,
            "grid_template_rows": null,
            "height": null,
            "justify_content": null,
            "justify_items": null,
            "left": null,
            "margin": null,
            "max_height": null,
            "max_width": null,
            "min_height": null,
            "min_width": null,
            "object_fit": null,
            "object_position": null,
            "order": null,
            "overflow": null,
            "overflow_x": null,
            "overflow_y": null,
            "padding": null,
            "right": null,
            "top": null,
            "visibility": null,
            "width": null
          }
        },
        "474fe54d042849cbbbabf16838526b17": {
          "model_module": "@jupyter-widgets/controls",
          "model_name": "ProgressStyleModel",
          "model_module_version": "1.5.0",
          "state": {
            "_model_module": "@jupyter-widgets/controls",
            "_model_module_version": "1.5.0",
            "_model_name": "ProgressStyleModel",
            "_view_count": null,
            "_view_module": "@jupyter-widgets/base",
            "_view_module_version": "1.2.0",
            "_view_name": "StyleView",
            "bar_color": null,
            "description_width": ""
          }
        },
        "a83eea7896dc48a7a674b12aab6f9aa2": {
          "model_module": "@jupyter-widgets/base",
          "model_name": "LayoutModel",
          "model_module_version": "1.2.0",
          "state": {
            "_model_module": "@jupyter-widgets/base",
            "_model_module_version": "1.2.0",
            "_model_name": "LayoutModel",
            "_view_count": null,
            "_view_module": "@jupyter-widgets/base",
            "_view_module_version": "1.2.0",
            "_view_name": "LayoutView",
            "align_content": null,
            "align_items": null,
            "align_self": null,
            "border": null,
            "bottom": null,
            "display": null,
            "flex": null,
            "flex_flow": null,
            "grid_area": null,
            "grid_auto_columns": null,
            "grid_auto_flow": null,
            "grid_auto_rows": null,
            "grid_column": null,
            "grid_gap": null,
            "grid_row": null,
            "grid_template_areas": null,
            "grid_template_columns": null,
            "grid_template_rows": null,
            "height": null,
            "justify_content": null,
            "justify_items": null,
            "left": null,
            "margin": null,
            "max_height": null,
            "max_width": null,
            "min_height": null,
            "min_width": null,
            "object_fit": null,
            "object_position": null,
            "order": null,
            "overflow": null,
            "overflow_x": null,
            "overflow_y": null,
            "padding": null,
            "right": null,
            "top": null,
            "visibility": null,
            "width": null
          }
        },
        "fcd7858a562d4f719c96cca59898f8c6": {
          "model_module": "@jupyter-widgets/controls",
          "model_name": "DescriptionStyleModel",
          "model_module_version": "1.5.0",
          "state": {
            "_model_module": "@jupyter-widgets/controls",
            "_model_module_version": "1.5.0",
            "_model_name": "DescriptionStyleModel",
            "_view_count": null,
            "_view_module": "@jupyter-widgets/base",
            "_view_module_version": "1.2.0",
            "_view_name": "StyleView",
            "description_width": ""
          }
        },
        "292870c39d524ca5a3a5923ba22345cf": {
          "model_module": "@jupyter-widgets/controls",
          "model_name": "HBoxModel",
          "model_module_version": "1.5.0",
          "state": {
            "_dom_classes": [],
            "_model_module": "@jupyter-widgets/controls",
            "_model_module_version": "1.5.0",
            "_model_name": "HBoxModel",
            "_view_count": null,
            "_view_module": "@jupyter-widgets/controls",
            "_view_module_version": "1.5.0",
            "_view_name": "HBoxView",
            "box_style": "",
            "children": [
              "IPY_MODEL_c1ee5c59ee804bf683a76b9832d71cc9",
              "IPY_MODEL_f6830902becf413f94c7a1e13f922e45",
              "IPY_MODEL_5774533cb74944bf99b9e56be31f4a5b"
            ],
            "layout": "IPY_MODEL_bb19846f46d14570b6a5fe106c631b66"
          }
        },
        "c1ee5c59ee804bf683a76b9832d71cc9": {
          "model_module": "@jupyter-widgets/controls",
          "model_name": "HTMLModel",
          "model_module_version": "1.5.0",
          "state": {
            "_dom_classes": [],
            "_model_module": "@jupyter-widgets/controls",
            "_model_module_version": "1.5.0",
            "_model_name": "HTMLModel",
            "_view_count": null,
            "_view_module": "@jupyter-widgets/controls",
            "_view_module_version": "1.5.0",
            "_view_name": "HTMLView",
            "description": "",
            "description_tooltip": null,
            "layout": "IPY_MODEL_813401709ca547829f7917c68c5c65b0",
            "placeholder": "​",
            "style": "IPY_MODEL_d8dfeb2a524c495ca247fa5ed05b0b7e",
            "value": "Validation DataLoader 0: 100%"
          }
        },
        "f6830902becf413f94c7a1e13f922e45": {
          "model_module": "@jupyter-widgets/controls",
          "model_name": "FloatProgressModel",
          "model_module_version": "1.5.0",
          "state": {
            "_dom_classes": [],
            "_model_module": "@jupyter-widgets/controls",
            "_model_module_version": "1.5.0",
            "_model_name": "FloatProgressModel",
            "_view_count": null,
            "_view_module": "@jupyter-widgets/controls",
            "_view_module_version": "1.5.0",
            "_view_name": "ProgressView",
            "bar_style": "",
            "description": "",
            "description_tooltip": null,
            "layout": "IPY_MODEL_efd9f53bbda6450f8476bd35c9bbfa85",
            "max": 99,
            "min": 0,
            "orientation": "horizontal",
            "style": "IPY_MODEL_0dcad37ea6bf493d9837f0357ee61515",
            "value": 99
          }
        },
        "5774533cb74944bf99b9e56be31f4a5b": {
          "model_module": "@jupyter-widgets/controls",
          "model_name": "HTMLModel",
          "model_module_version": "1.5.0",
          "state": {
            "_dom_classes": [],
            "_model_module": "@jupyter-widgets/controls",
            "_model_module_version": "1.5.0",
            "_model_name": "HTMLModel",
            "_view_count": null,
            "_view_module": "@jupyter-widgets/controls",
            "_view_module_version": "1.5.0",
            "_view_name": "HTMLView",
            "description": "",
            "description_tooltip": null,
            "layout": "IPY_MODEL_c5707f6836984a27b9bf3710249140ef",
            "placeholder": "​",
            "style": "IPY_MODEL_b8b48d1f40704b57b7a94d37c61b0c17",
            "value": " 99/99 [01:32&lt;00:00,  1.07it/s]"
          }
        },
        "bb19846f46d14570b6a5fe106c631b66": {
          "model_module": "@jupyter-widgets/base",
          "model_name": "LayoutModel",
          "model_module_version": "1.2.0",
          "state": {
            "_model_module": "@jupyter-widgets/base",
            "_model_module_version": "1.2.0",
            "_model_name": "LayoutModel",
            "_view_count": null,
            "_view_module": "@jupyter-widgets/base",
            "_view_module_version": "1.2.0",
            "_view_name": "LayoutView",
            "align_content": null,
            "align_items": null,
            "align_self": null,
            "border": null,
            "bottom": null,
            "display": "inline-flex",
            "flex": null,
            "flex_flow": "row wrap",
            "grid_area": null,
            "grid_auto_columns": null,
            "grid_auto_flow": null,
            "grid_auto_rows": null,
            "grid_column": null,
            "grid_gap": null,
            "grid_row": null,
            "grid_template_areas": null,
            "grid_template_columns": null,
            "grid_template_rows": null,
            "height": null,
            "justify_content": null,
            "justify_items": null,
            "left": null,
            "margin": null,
            "max_height": null,
            "max_width": null,
            "min_height": null,
            "min_width": null,
            "object_fit": null,
            "object_position": null,
            "order": null,
            "overflow": null,
            "overflow_x": null,
            "overflow_y": null,
            "padding": null,
            "right": null,
            "top": null,
            "visibility": "hidden",
            "width": "100%"
          }
        },
        "813401709ca547829f7917c68c5c65b0": {
          "model_module": "@jupyter-widgets/base",
          "model_name": "LayoutModel",
          "model_module_version": "1.2.0",
          "state": {
            "_model_module": "@jupyter-widgets/base",
            "_model_module_version": "1.2.0",
            "_model_name": "LayoutModel",
            "_view_count": null,
            "_view_module": "@jupyter-widgets/base",
            "_view_module_version": "1.2.0",
            "_view_name": "LayoutView",
            "align_content": null,
            "align_items": null,
            "align_self": null,
            "border": null,
            "bottom": null,
            "display": null,
            "flex": null,
            "flex_flow": null,
            "grid_area": null,
            "grid_auto_columns": null,
            "grid_auto_flow": null,
            "grid_auto_rows": null,
            "grid_column": null,
            "grid_gap": null,
            "grid_row": null,
            "grid_template_areas": null,
            "grid_template_columns": null,
            "grid_template_rows": null,
            "height": null,
            "justify_content": null,
            "justify_items": null,
            "left": null,
            "margin": null,
            "max_height": null,
            "max_width": null,
            "min_height": null,
            "min_width": null,
            "object_fit": null,
            "object_position": null,
            "order": null,
            "overflow": null,
            "overflow_x": null,
            "overflow_y": null,
            "padding": null,
            "right": null,
            "top": null,
            "visibility": null,
            "width": null
          }
        },
        "d8dfeb2a524c495ca247fa5ed05b0b7e": {
          "model_module": "@jupyter-widgets/controls",
          "model_name": "DescriptionStyleModel",
          "model_module_version": "1.5.0",
          "state": {
            "_model_module": "@jupyter-widgets/controls",
            "_model_module_version": "1.5.0",
            "_model_name": "DescriptionStyleModel",
            "_view_count": null,
            "_view_module": "@jupyter-widgets/base",
            "_view_module_version": "1.2.0",
            "_view_name": "StyleView",
            "description_width": ""
          }
        },
        "efd9f53bbda6450f8476bd35c9bbfa85": {
          "model_module": "@jupyter-widgets/base",
          "model_name": "LayoutModel",
          "model_module_version": "1.2.0",
          "state": {
            "_model_module": "@jupyter-widgets/base",
            "_model_module_version": "1.2.0",
            "_model_name": "LayoutModel",
            "_view_count": null,
            "_view_module": "@jupyter-widgets/base",
            "_view_module_version": "1.2.0",
            "_view_name": "LayoutView",
            "align_content": null,
            "align_items": null,
            "align_self": null,
            "border": null,
            "bottom": null,
            "display": null,
            "flex": "2",
            "flex_flow": null,
            "grid_area": null,
            "grid_auto_columns": null,
            "grid_auto_flow": null,
            "grid_auto_rows": null,
            "grid_column": null,
            "grid_gap": null,
            "grid_row": null,
            "grid_template_areas": null,
            "grid_template_columns": null,
            "grid_template_rows": null,
            "height": null,
            "justify_content": null,
            "justify_items": null,
            "left": null,
            "margin": null,
            "max_height": null,
            "max_width": null,
            "min_height": null,
            "min_width": null,
            "object_fit": null,
            "object_position": null,
            "order": null,
            "overflow": null,
            "overflow_x": null,
            "overflow_y": null,
            "padding": null,
            "right": null,
            "top": null,
            "visibility": null,
            "width": null
          }
        },
        "0dcad37ea6bf493d9837f0357ee61515": {
          "model_module": "@jupyter-widgets/controls",
          "model_name": "ProgressStyleModel",
          "model_module_version": "1.5.0",
          "state": {
            "_model_module": "@jupyter-widgets/controls",
            "_model_module_version": "1.5.0",
            "_model_name": "ProgressStyleModel",
            "_view_count": null,
            "_view_module": "@jupyter-widgets/base",
            "_view_module_version": "1.2.0",
            "_view_name": "StyleView",
            "bar_color": null,
            "description_width": ""
          }
        },
        "c5707f6836984a27b9bf3710249140ef": {
          "model_module": "@jupyter-widgets/base",
          "model_name": "LayoutModel",
          "model_module_version": "1.2.0",
          "state": {
            "_model_module": "@jupyter-widgets/base",
            "_model_module_version": "1.2.0",
            "_model_name": "LayoutModel",
            "_view_count": null,
            "_view_module": "@jupyter-widgets/base",
            "_view_module_version": "1.2.0",
            "_view_name": "LayoutView",
            "align_content": null,
            "align_items": null,
            "align_self": null,
            "border": null,
            "bottom": null,
            "display": null,
            "flex": null,
            "flex_flow": null,
            "grid_area": null,
            "grid_auto_columns": null,
            "grid_auto_flow": null,
            "grid_auto_rows": null,
            "grid_column": null,
            "grid_gap": null,
            "grid_row": null,
            "grid_template_areas": null,
            "grid_template_columns": null,
            "grid_template_rows": null,
            "height": null,
            "justify_content": null,
            "justify_items": null,
            "left": null,
            "margin": null,
            "max_height": null,
            "max_width": null,
            "min_height": null,
            "min_width": null,
            "object_fit": null,
            "object_position": null,
            "order": null,
            "overflow": null,
            "overflow_x": null,
            "overflow_y": null,
            "padding": null,
            "right": null,
            "top": null,
            "visibility": null,
            "width": null
          }
        },
        "b8b48d1f40704b57b7a94d37c61b0c17": {
          "model_module": "@jupyter-widgets/controls",
          "model_name": "DescriptionStyleModel",
          "model_module_version": "1.5.0",
          "state": {
            "_model_module": "@jupyter-widgets/controls",
            "_model_module_version": "1.5.0",
            "_model_name": "DescriptionStyleModel",
            "_view_count": null,
            "_view_module": "@jupyter-widgets/base",
            "_view_module_version": "1.2.0",
            "_view_name": "StyleView",
            "description_width": ""
          }
        },
        "682f28ccf47742db8986ba84ec2772b3": {
          "model_module": "@jupyter-widgets/controls",
          "model_name": "HBoxModel",
          "model_module_version": "1.5.0",
          "state": {
            "_dom_classes": [],
            "_model_module": "@jupyter-widgets/controls",
            "_model_module_version": "1.5.0",
            "_model_name": "HBoxModel",
            "_view_count": null,
            "_view_module": "@jupyter-widgets/controls",
            "_view_module_version": "1.5.0",
            "_view_name": "HBoxView",
            "box_style": "",
            "children": [
              "IPY_MODEL_0f7cad1e16ca46b1af01343fe21267aa",
              "IPY_MODEL_2c1df0bbc93941568d5224298f88031a",
              "IPY_MODEL_4943dee85bef4528a9571c80c36fca7e"
            ],
            "layout": "IPY_MODEL_8c764124682544e696ef9e71f5771726"
          }
        },
        "0f7cad1e16ca46b1af01343fe21267aa": {
          "model_module": "@jupyter-widgets/controls",
          "model_name": "HTMLModel",
          "model_module_version": "1.5.0",
          "state": {
            "_dom_classes": [],
            "_model_module": "@jupyter-widgets/controls",
            "_model_module_version": "1.5.0",
            "_model_name": "HTMLModel",
            "_view_count": null,
            "_view_module": "@jupyter-widgets/controls",
            "_view_module_version": "1.5.0",
            "_view_name": "HTMLView",
            "description": "",
            "description_tooltip": null,
            "layout": "IPY_MODEL_ccbdc35d99324e709cf8920fe0cd83e5",
            "placeholder": "​",
            "style": "IPY_MODEL_417eebb637744409ba45cf6ff87dfbbf",
            "value": "Validation DataLoader 0: 100%"
          }
        },
        "2c1df0bbc93941568d5224298f88031a": {
          "model_module": "@jupyter-widgets/controls",
          "model_name": "FloatProgressModel",
          "model_module_version": "1.5.0",
          "state": {
            "_dom_classes": [],
            "_model_module": "@jupyter-widgets/controls",
            "_model_module_version": "1.5.0",
            "_model_name": "FloatProgressModel",
            "_view_count": null,
            "_view_module": "@jupyter-widgets/controls",
            "_view_module_version": "1.5.0",
            "_view_name": "ProgressView",
            "bar_style": "",
            "description": "",
            "description_tooltip": null,
            "layout": "IPY_MODEL_344ae3b6eb774df6b466b4bbe907e392",
            "max": 99,
            "min": 0,
            "orientation": "horizontal",
            "style": "IPY_MODEL_68226d7b09ce4c728c276c2ccf919be9",
            "value": 99
          }
        },
        "4943dee85bef4528a9571c80c36fca7e": {
          "model_module": "@jupyter-widgets/controls",
          "model_name": "HTMLModel",
          "model_module_version": "1.5.0",
          "state": {
            "_dom_classes": [],
            "_model_module": "@jupyter-widgets/controls",
            "_model_module_version": "1.5.0",
            "_model_name": "HTMLModel",
            "_view_count": null,
            "_view_module": "@jupyter-widgets/controls",
            "_view_module_version": "1.5.0",
            "_view_name": "HTMLView",
            "description": "",
            "description_tooltip": null,
            "layout": "IPY_MODEL_d9587a0c09024753863b87f641f60ddc",
            "placeholder": "​",
            "style": "IPY_MODEL_48909651862e4eb78bd1e22a00d34883",
            "value": " 99/99 [01:32&lt;00:00,  1.07it/s]"
          }
        },
        "8c764124682544e696ef9e71f5771726": {
          "model_module": "@jupyter-widgets/base",
          "model_name": "LayoutModel",
          "model_module_version": "1.2.0",
          "state": {
            "_model_module": "@jupyter-widgets/base",
            "_model_module_version": "1.2.0",
            "_model_name": "LayoutModel",
            "_view_count": null,
            "_view_module": "@jupyter-widgets/base",
            "_view_module_version": "1.2.0",
            "_view_name": "LayoutView",
            "align_content": null,
            "align_items": null,
            "align_self": null,
            "border": null,
            "bottom": null,
            "display": "inline-flex",
            "flex": null,
            "flex_flow": "row wrap",
            "grid_area": null,
            "grid_auto_columns": null,
            "grid_auto_flow": null,
            "grid_auto_rows": null,
            "grid_column": null,
            "grid_gap": null,
            "grid_row": null,
            "grid_template_areas": null,
            "grid_template_columns": null,
            "grid_template_rows": null,
            "height": null,
            "justify_content": null,
            "justify_items": null,
            "left": null,
            "margin": null,
            "max_height": null,
            "max_width": null,
            "min_height": null,
            "min_width": null,
            "object_fit": null,
            "object_position": null,
            "order": null,
            "overflow": null,
            "overflow_x": null,
            "overflow_y": null,
            "padding": null,
            "right": null,
            "top": null,
            "visibility": "hidden",
            "width": "100%"
          }
        },
        "ccbdc35d99324e709cf8920fe0cd83e5": {
          "model_module": "@jupyter-widgets/base",
          "model_name": "LayoutModel",
          "model_module_version": "1.2.0",
          "state": {
            "_model_module": "@jupyter-widgets/base",
            "_model_module_version": "1.2.0",
            "_model_name": "LayoutModel",
            "_view_count": null,
            "_view_module": "@jupyter-widgets/base",
            "_view_module_version": "1.2.0",
            "_view_name": "LayoutView",
            "align_content": null,
            "align_items": null,
            "align_self": null,
            "border": null,
            "bottom": null,
            "display": null,
            "flex": null,
            "flex_flow": null,
            "grid_area": null,
            "grid_auto_columns": null,
            "grid_auto_flow": null,
            "grid_auto_rows": null,
            "grid_column": null,
            "grid_gap": null,
            "grid_row": null,
            "grid_template_areas": null,
            "grid_template_columns": null,
            "grid_template_rows": null,
            "height": null,
            "justify_content": null,
            "justify_items": null,
            "left": null,
            "margin": null,
            "max_height": null,
            "max_width": null,
            "min_height": null,
            "min_width": null,
            "object_fit": null,
            "object_position": null,
            "order": null,
            "overflow": null,
            "overflow_x": null,
            "overflow_y": null,
            "padding": null,
            "right": null,
            "top": null,
            "visibility": null,
            "width": null
          }
        },
        "417eebb637744409ba45cf6ff87dfbbf": {
          "model_module": "@jupyter-widgets/controls",
          "model_name": "DescriptionStyleModel",
          "model_module_version": "1.5.0",
          "state": {
            "_model_module": "@jupyter-widgets/controls",
            "_model_module_version": "1.5.0",
            "_model_name": "DescriptionStyleModel",
            "_view_count": null,
            "_view_module": "@jupyter-widgets/base",
            "_view_module_version": "1.2.0",
            "_view_name": "StyleView",
            "description_width": ""
          }
        },
        "344ae3b6eb774df6b466b4bbe907e392": {
          "model_module": "@jupyter-widgets/base",
          "model_name": "LayoutModel",
          "model_module_version": "1.2.0",
          "state": {
            "_model_module": "@jupyter-widgets/base",
            "_model_module_version": "1.2.0",
            "_model_name": "LayoutModel",
            "_view_count": null,
            "_view_module": "@jupyter-widgets/base",
            "_view_module_version": "1.2.0",
            "_view_name": "LayoutView",
            "align_content": null,
            "align_items": null,
            "align_self": null,
            "border": null,
            "bottom": null,
            "display": null,
            "flex": "2",
            "flex_flow": null,
            "grid_area": null,
            "grid_auto_columns": null,
            "grid_auto_flow": null,
            "grid_auto_rows": null,
            "grid_column": null,
            "grid_gap": null,
            "grid_row": null,
            "grid_template_areas": null,
            "grid_template_columns": null,
            "grid_template_rows": null,
            "height": null,
            "justify_content": null,
            "justify_items": null,
            "left": null,
            "margin": null,
            "max_height": null,
            "max_width": null,
            "min_height": null,
            "min_width": null,
            "object_fit": null,
            "object_position": null,
            "order": null,
            "overflow": null,
            "overflow_x": null,
            "overflow_y": null,
            "padding": null,
            "right": null,
            "top": null,
            "visibility": null,
            "width": null
          }
        },
        "68226d7b09ce4c728c276c2ccf919be9": {
          "model_module": "@jupyter-widgets/controls",
          "model_name": "ProgressStyleModel",
          "model_module_version": "1.5.0",
          "state": {
            "_model_module": "@jupyter-widgets/controls",
            "_model_module_version": "1.5.0",
            "_model_name": "ProgressStyleModel",
            "_view_count": null,
            "_view_module": "@jupyter-widgets/base",
            "_view_module_version": "1.2.0",
            "_view_name": "StyleView",
            "bar_color": null,
            "description_width": ""
          }
        },
        "d9587a0c09024753863b87f641f60ddc": {
          "model_module": "@jupyter-widgets/base",
          "model_name": "LayoutModel",
          "model_module_version": "1.2.0",
          "state": {
            "_model_module": "@jupyter-widgets/base",
            "_model_module_version": "1.2.0",
            "_model_name": "LayoutModel",
            "_view_count": null,
            "_view_module": "@jupyter-widgets/base",
            "_view_module_version": "1.2.0",
            "_view_name": "LayoutView",
            "align_content": null,
            "align_items": null,
            "align_self": null,
            "border": null,
            "bottom": null,
            "display": null,
            "flex": null,
            "flex_flow": null,
            "grid_area": null,
            "grid_auto_columns": null,
            "grid_auto_flow": null,
            "grid_auto_rows": null,
            "grid_column": null,
            "grid_gap": null,
            "grid_row": null,
            "grid_template_areas": null,
            "grid_template_columns": null,
            "grid_template_rows": null,
            "height": null,
            "justify_content": null,
            "justify_items": null,
            "left": null,
            "margin": null,
            "max_height": null,
            "max_width": null,
            "min_height": null,
            "min_width": null,
            "object_fit": null,
            "object_position": null,
            "order": null,
            "overflow": null,
            "overflow_x": null,
            "overflow_y": null,
            "padding": null,
            "right": null,
            "top": null,
            "visibility": null,
            "width": null
          }
        },
        "48909651862e4eb78bd1e22a00d34883": {
          "model_module": "@jupyter-widgets/controls",
          "model_name": "DescriptionStyleModel",
          "model_module_version": "1.5.0",
          "state": {
            "_model_module": "@jupyter-widgets/controls",
            "_model_module_version": "1.5.0",
            "_model_name": "DescriptionStyleModel",
            "_view_count": null,
            "_view_module": "@jupyter-widgets/base",
            "_view_module_version": "1.2.0",
            "_view_name": "StyleView",
            "description_width": ""
          }
        },
        "b7e6258f2c3241a0a48e02b58de5dd85": {
          "model_module": "@jupyter-widgets/controls",
          "model_name": "HBoxModel",
          "model_module_version": "1.5.0",
          "state": {
            "_dom_classes": [],
            "_model_module": "@jupyter-widgets/controls",
            "_model_module_version": "1.5.0",
            "_model_name": "HBoxModel",
            "_view_count": null,
            "_view_module": "@jupyter-widgets/controls",
            "_view_module_version": "1.5.0",
            "_view_name": "HBoxView",
            "box_style": "",
            "children": [
              "IPY_MODEL_4184e9a404714643ac82f8eecf6e2bbe",
              "IPY_MODEL_8892633cc4974820b886c2505ed050ad",
              "IPY_MODEL_2c9fc8273ae241c29c008ab1d85e9561"
            ],
            "layout": "IPY_MODEL_dae16ad53aa84ddc8af345b89ee5537f"
          }
        },
        "4184e9a404714643ac82f8eecf6e2bbe": {
          "model_module": "@jupyter-widgets/controls",
          "model_name": "HTMLModel",
          "model_module_version": "1.5.0",
          "state": {
            "_dom_classes": [],
            "_model_module": "@jupyter-widgets/controls",
            "_model_module_version": "1.5.0",
            "_model_name": "HTMLModel",
            "_view_count": null,
            "_view_module": "@jupyter-widgets/controls",
            "_view_module_version": "1.5.0",
            "_view_name": "HTMLView",
            "description": "",
            "description_tooltip": null,
            "layout": "IPY_MODEL_9dbcf4140ea94f38a50682d811129466",
            "placeholder": "​",
            "style": "IPY_MODEL_142e0f9b710548a591981004066df6e6",
            "value": "100%"
          }
        },
        "8892633cc4974820b886c2505ed050ad": {
          "model_module": "@jupyter-widgets/controls",
          "model_name": "FloatProgressModel",
          "model_module_version": "1.5.0",
          "state": {
            "_dom_classes": [],
            "_model_module": "@jupyter-widgets/controls",
            "_model_module_version": "1.5.0",
            "_model_name": "FloatProgressModel",
            "_view_count": null,
            "_view_module": "@jupyter-widgets/controls",
            "_view_module_version": "1.5.0",
            "_view_name": "ProgressView",
            "bar_style": "success",
            "description": "",
            "description_tooltip": null,
            "layout": "IPY_MODEL_7a09e601a055447596fe1c6d635ca394",
            "max": 139,
            "min": 0,
            "orientation": "horizontal",
            "style": "IPY_MODEL_bb3c14ac0ff54f1798be3e1e07d3fa3f",
            "value": 139
          }
        },
        "2c9fc8273ae241c29c008ab1d85e9561": {
          "model_module": "@jupyter-widgets/controls",
          "model_name": "HTMLModel",
          "model_module_version": "1.5.0",
          "state": {
            "_dom_classes": [],
            "_model_module": "@jupyter-widgets/controls",
            "_model_module_version": "1.5.0",
            "_model_name": "HTMLModel",
            "_view_count": null,
            "_view_module": "@jupyter-widgets/controls",
            "_view_module_version": "1.5.0",
            "_view_name": "HTMLView",
            "description": "",
            "description_tooltip": null,
            "layout": "IPY_MODEL_e21efb04e00f48709bf6ed4b957d2728",
            "placeholder": "​",
            "style": "IPY_MODEL_64cf2fb74fe24ff590fe705598692e3b",
            "value": " 139/139 [06:24&lt;00:00,  2.60s/it]"
          }
        },
        "dae16ad53aa84ddc8af345b89ee5537f": {
          "model_module": "@jupyter-widgets/base",
          "model_name": "LayoutModel",
          "model_module_version": "1.2.0",
          "state": {
            "_model_module": "@jupyter-widgets/base",
            "_model_module_version": "1.2.0",
            "_model_name": "LayoutModel",
            "_view_count": null,
            "_view_module": "@jupyter-widgets/base",
            "_view_module_version": "1.2.0",
            "_view_name": "LayoutView",
            "align_content": null,
            "align_items": null,
            "align_self": null,
            "border": null,
            "bottom": null,
            "display": null,
            "flex": null,
            "flex_flow": null,
            "grid_area": null,
            "grid_auto_columns": null,
            "grid_auto_flow": null,
            "grid_auto_rows": null,
            "grid_column": null,
            "grid_gap": null,
            "grid_row": null,
            "grid_template_areas": null,
            "grid_template_columns": null,
            "grid_template_rows": null,
            "height": null,
            "justify_content": null,
            "justify_items": null,
            "left": null,
            "margin": null,
            "max_height": null,
            "max_width": null,
            "min_height": null,
            "min_width": null,
            "object_fit": null,
            "object_position": null,
            "order": null,
            "overflow": null,
            "overflow_x": null,
            "overflow_y": null,
            "padding": null,
            "right": null,
            "top": null,
            "visibility": null,
            "width": null
          }
        },
        "9dbcf4140ea94f38a50682d811129466": {
          "model_module": "@jupyter-widgets/base",
          "model_name": "LayoutModel",
          "model_module_version": "1.2.0",
          "state": {
            "_model_module": "@jupyter-widgets/base",
            "_model_module_version": "1.2.0",
            "_model_name": "LayoutModel",
            "_view_count": null,
            "_view_module": "@jupyter-widgets/base",
            "_view_module_version": "1.2.0",
            "_view_name": "LayoutView",
            "align_content": null,
            "align_items": null,
            "align_self": null,
            "border": null,
            "bottom": null,
            "display": null,
            "flex": null,
            "flex_flow": null,
            "grid_area": null,
            "grid_auto_columns": null,
            "grid_auto_flow": null,
            "grid_auto_rows": null,
            "grid_column": null,
            "grid_gap": null,
            "grid_row": null,
            "grid_template_areas": null,
            "grid_template_columns": null,
            "grid_template_rows": null,
            "height": null,
            "justify_content": null,
            "justify_items": null,
            "left": null,
            "margin": null,
            "max_height": null,
            "max_width": null,
            "min_height": null,
            "min_width": null,
            "object_fit": null,
            "object_position": null,
            "order": null,
            "overflow": null,
            "overflow_x": null,
            "overflow_y": null,
            "padding": null,
            "right": null,
            "top": null,
            "visibility": null,
            "width": null
          }
        },
        "142e0f9b710548a591981004066df6e6": {
          "model_module": "@jupyter-widgets/controls",
          "model_name": "DescriptionStyleModel",
          "model_module_version": "1.5.0",
          "state": {
            "_model_module": "@jupyter-widgets/controls",
            "_model_module_version": "1.5.0",
            "_model_name": "DescriptionStyleModel",
            "_view_count": null,
            "_view_module": "@jupyter-widgets/base",
            "_view_module_version": "1.2.0",
            "_view_name": "StyleView",
            "description_width": ""
          }
        },
        "7a09e601a055447596fe1c6d635ca394": {
          "model_module": "@jupyter-widgets/base",
          "model_name": "LayoutModel",
          "model_module_version": "1.2.0",
          "state": {
            "_model_module": "@jupyter-widgets/base",
            "_model_module_version": "1.2.0",
            "_model_name": "LayoutModel",
            "_view_count": null,
            "_view_module": "@jupyter-widgets/base",
            "_view_module_version": "1.2.0",
            "_view_name": "LayoutView",
            "align_content": null,
            "align_items": null,
            "align_self": null,
            "border": null,
            "bottom": null,
            "display": null,
            "flex": null,
            "flex_flow": null,
            "grid_area": null,
            "grid_auto_columns": null,
            "grid_auto_flow": null,
            "grid_auto_rows": null,
            "grid_column": null,
            "grid_gap": null,
            "grid_row": null,
            "grid_template_areas": null,
            "grid_template_columns": null,
            "grid_template_rows": null,
            "height": null,
            "justify_content": null,
            "justify_items": null,
            "left": null,
            "margin": null,
            "max_height": null,
            "max_width": null,
            "min_height": null,
            "min_width": null,
            "object_fit": null,
            "object_position": null,
            "order": null,
            "overflow": null,
            "overflow_x": null,
            "overflow_y": null,
            "padding": null,
            "right": null,
            "top": null,
            "visibility": null,
            "width": null
          }
        },
        "bb3c14ac0ff54f1798be3e1e07d3fa3f": {
          "model_module": "@jupyter-widgets/controls",
          "model_name": "ProgressStyleModel",
          "model_module_version": "1.5.0",
          "state": {
            "_model_module": "@jupyter-widgets/controls",
            "_model_module_version": "1.5.0",
            "_model_name": "ProgressStyleModel",
            "_view_count": null,
            "_view_module": "@jupyter-widgets/base",
            "_view_module_version": "1.2.0",
            "_view_name": "StyleView",
            "bar_color": null,
            "description_width": ""
          }
        },
        "e21efb04e00f48709bf6ed4b957d2728": {
          "model_module": "@jupyter-widgets/base",
          "model_name": "LayoutModel",
          "model_module_version": "1.2.0",
          "state": {
            "_model_module": "@jupyter-widgets/base",
            "_model_module_version": "1.2.0",
            "_model_name": "LayoutModel",
            "_view_count": null,
            "_view_module": "@jupyter-widgets/base",
            "_view_module_version": "1.2.0",
            "_view_name": "LayoutView",
            "align_content": null,
            "align_items": null,
            "align_self": null,
            "border": null,
            "bottom": null,
            "display": null,
            "flex": null,
            "flex_flow": null,
            "grid_area": null,
            "grid_auto_columns": null,
            "grid_auto_flow": null,
            "grid_auto_rows": null,
            "grid_column": null,
            "grid_gap": null,
            "grid_row": null,
            "grid_template_areas": null,
            "grid_template_columns": null,
            "grid_template_rows": null,
            "height": null,
            "justify_content": null,
            "justify_items": null,
            "left": null,
            "margin": null,
            "max_height": null,
            "max_width": null,
            "min_height": null,
            "min_width": null,
            "object_fit": null,
            "object_position": null,
            "order": null,
            "overflow": null,
            "overflow_x": null,
            "overflow_y": null,
            "padding": null,
            "right": null,
            "top": null,
            "visibility": null,
            "width": null
          }
        },
        "64cf2fb74fe24ff590fe705598692e3b": {
          "model_module": "@jupyter-widgets/controls",
          "model_name": "DescriptionStyleModel",
          "model_module_version": "1.5.0",
          "state": {
            "_model_module": "@jupyter-widgets/controls",
            "_model_module_version": "1.5.0",
            "_model_name": "DescriptionStyleModel",
            "_view_count": null,
            "_view_module": "@jupyter-widgets/base",
            "_view_module_version": "1.2.0",
            "_view_name": "StyleView",
            "description_width": ""
          }
        }
      }
    },
    "gpuClass": "standard"
  },
  "nbformat": 4,
  "nbformat_minor": 0
}